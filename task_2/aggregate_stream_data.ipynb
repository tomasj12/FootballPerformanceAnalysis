{
 "cells": [
  {
   "cell_type": "markdown",
   "metadata": {},
   "source": [
    "## Set the environment\n",
    "\n",
    "In this part, the environment is set. The set up is:\n",
    "\n",
    "* Loading the necessary python modules and helper functions\n",
    "* Setting the path to data and metadata\n",
    "* Initialize the spark session\n",
    "\n",
    "Other config, such as `spark` application name, path, where the final `delta` table will be saved, etc. are defined in `config.yaml` file"
   ]
  },
  {
   "cell_type": "markdown",
   "metadata": {},
   "source": [
    "### Import modules"
   ]
  },
  {
   "cell_type": "code",
   "execution_count": null,
   "metadata": {},
   "outputs": [],
   "source": [
    "from pyspark.sql import SparkSession\n",
    "from utils import read_config, init_spark_session,plot_pitch,check_throw_corner\n",
    "import time\n",
    "from datetime import datetime\n",
    "import matplotlib.pyplot as plt\n",
    "import os"
   ]
  },
  {
   "cell_type": "markdown",
   "metadata": {},
   "source": [
    "### Read config"
   ]
  },
  {
   "cell_type": "code",
   "execution_count": null,
   "metadata": {},
   "outputs": [],
   "source": [
    "config = read_config()"
   ]
  },
  {
   "cell_type": "markdown",
   "metadata": {},
   "source": [
    "### Set env variables"
   ]
  },
  {
   "cell_type": "code",
   "execution_count": null,
   "metadata": {},
   "outputs": [],
   "source": [
    "spark_app_name = config['spark_application']['spark_app_stream_name']\n",
    "\n",
    "file_format = config['streaming']['format']\n",
    "file_dir = config['streaming']['file_dir']\n",
    "\n",
    "agg_time = config['streaming_aggregation']['aggregating_time_s']\n",
    "wait_time = config['streaming_aggregation']['wait_for_agg_s']"
   ]
  },
  {
   "cell_type": "markdown",
   "metadata": {},
   "source": [
    "### Init spark session"
   ]
  },
  {
   "cell_type": "code",
   "execution_count": null,
   "metadata": {},
   "outputs": [],
   "source": [
    "spark = init_spark_session(spark_app_name)"
   ]
  },
  {
   "cell_type": "markdown",
   "metadata": {},
   "source": [
    "## Aggregate stream data"
   ]
  },
  {
   "cell_type": "code",
   "execution_count": null,
   "metadata": {},
   "outputs": [],
   "source": [
    "now = datetime.now()\n",
    "delta = 0\n",
    "init_ball_status = 'Alive'\n",
    "init_ball_position = False # ball is not in the penalty box at the beginning\n",
    "init_field_position = True\n",
    "field_dimen = (104.85,67.97)\n",
    "fig,ax = plot_pitch(field_dimen)\n",
    "\n",
    "xy_init = (0,0)\n",
    "\n",
    "if os.path.isdir(file_dir):\n",
    "        \n",
    "    while delta < agg_time:\n",
    "\n",
    "        \n",
    "        time.sleep(wait_time)\n",
    "        df = (\n",
    "            spark.read.format(file_format).load(file_dir)\n",
    "        )\n",
    "\n",
    "        df_pd = df.toPandas()\n",
    "        df_pd = df_pd.sort_values(\"wallClock\")\n",
    "        df_pd = df_pd.tail(1)\n",
    "        \n",
    "        alive = df_pd['ballStatus'].values[0]\n",
    "        box_position = df_pd['ballInsideBox'].values[0]\n",
    "        xy_position = df_pd['ballPosition'].values[0]\n",
    "        ts= df_pd['match_timestamp'].values[0]\n",
    "        field_position = df_pd['ballInsideField'].values[0]\n",
    "        team_last = df_pd['ballTeam'].values[0]\n",
    "\n",
    "        if alive != init_ball_status:\n",
    "            text = f'Timestamp: {ts}; Ball change status from {init_ball_status} to {alive}'\n",
    "            print(text)\n",
    "        \n",
    "        if box_position != init_ball_position:\n",
    "            if box_position:\n",
    "                text = f'Timestamp: {ts}; Action is coming! Ball is going to inside penalty box!; Position: {xy_position}'\n",
    "                print(text)\n",
    "            else:\n",
    "                text = f'Timestamp: {ts}; There is no more danger! Ball is going outside the penalty box!; Position: {xy_position}'\n",
    "                print(text)\n",
    "        \n",
    "        if field_position != init_field_position:\n",
    "            if field_position:\n",
    "                text = f'Timestamp: {ts}; Ball is back on the field!; Position: {xy_position}'\n",
    "                print(text)\n",
    "            else:\n",
    "\n",
    "                pos,adjust_xy_pos = check_throw_corner(field_dimen=field_dimen, ball_pos=xy_position)\n",
    "                team = 'home team' if team_last == 'A' else 'away team'\n",
    "                throw_corner = f'{pos} for {team}'\n",
    "                text = f'Timestamp: {ts}; Ball is outside of the field!; {throw_corner}; Position: {xy_position}'\n",
    "                print(text)\n",
    "                \n",
    "\n",
    "\n",
    "        then = datetime.now()\n",
    "        delta = (then - now).seconds\n",
    "        init_ball_position = box_position\n",
    "        init_field_position = field_position\n",
    "        init_ball_status = alive\n",
    "        xy_init = xy_position\n",
    "\n",
    "\n",
    "print(\"Finisihed\") \n",
    "        "
   ]
  }
 ],
 "metadata": {
  "interpreter": {
   "hash": "31f2aee4e71d21fbe5cf8b01ff0e069b9275f58929596ceb00d14d90e3e16cd6"
  },
  "kernelspec": {
   "display_name": "Python 3.8.10 64-bit",
   "language": "python",
   "name": "python3"
  },
  "language_info": {
   "name": "python",
   "version": "3.8.10"
  },
  "orig_nbformat": 4
 },
 "nbformat": 4,
 "nbformat_minor": 2
}
