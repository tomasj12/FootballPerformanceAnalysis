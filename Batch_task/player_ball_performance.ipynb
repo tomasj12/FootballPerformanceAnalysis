{
 "cells": [
  {
   "cell_type": "markdown",
   "metadata": {},
   "source": [
    "# Computing the player and the ball performmance\n",
    "\n",
    "**Purpose of the notebook:** The purpose of this notebook is to load unified dataset for both players and ball for computing the performance.\n",
    "\n",
    "**Input of the notebook:** The input data are unified match data.\n",
    "\n",
    "**Output of the notebook:** The output of this notebook is `delta` table. (maybe feature store in the future)\n",
    "\n",
    "**Some notes:**:\n",
    "* The `spark.DataFrame` will always have notation `_df` at the end of the name of variable\n",
    "* the `pandas.DataFrame` will always have notation `_pd` at the end of the name of variable"
   ]
  },
  {
   "cell_type": "markdown",
   "metadata": {},
   "source": [
    "## Set the environment\n",
    "\n",
    "In this part, the environment is set. The set up is:\n",
    "\n",
    "* Loading the necessary python modules and helper functions\n",
    "* Setting the path to data and metadata\n",
    "* Initialize the spark session\n",
    "\n",
    "Other config, such as `spark` application name, path, where the final `delta` table will be saved, etc. are defined in `config.yaml` file"
   ]
  },
  {
   "cell_type": "markdown",
   "metadata": {},
   "source": [
    "#### Import modules"
   ]
  },
  {
   "cell_type": "code",
   "execution_count": 2,
   "metadata": {},
   "outputs": [],
   "source": [
    "# Import the modules\n",
    "from pyspark.sql import SparkSession\n",
    "import pyspark.sql.functions as F\n",
    "from pyspark.sql.window import Window\n",
    "import pyspark.sql.types as T\n",
    "from delta import *\n",
    "from utils import plot_pitch, ball_inside_box, read_config\n",
    "import os\n",
    "from bs4 import BeautifulSoup"
   ]
  },
  {
   "cell_type": "markdown",
   "metadata": {},
   "source": [
    "#### Read config"
   ]
  },
  {
   "cell_type": "code",
   "execution_count": 3,
   "metadata": {},
   "outputs": [],
   "source": [
    "config = read_config()"
   ]
  },
  {
   "cell_type": "markdown",
   "metadata": {},
   "source": [
    "#### Initialize spark session"
   ]
  },
  {
   "cell_type": "code",
   "execution_count": 4,
   "metadata": {},
   "outputs": [
    {
     "name": "stderr",
     "output_type": "stream",
     "text": [
      "22/07/18 21:57:02 WARN Utils: Your hostname, tomas-Yoga-Slim-7-Pro-14ACH5-O resolves to a loopback address: 127.0.1.1; using 192.168.0.53 instead (on interface wlp1s0)\n",
      "22/07/18 21:57:02 WARN Utils: Set SPARK_LOCAL_IP if you need to bind to another address\n",
      "WARNING: An illegal reflective access operation has occurred\n",
      "WARNING: Illegal reflective access by org.apache.spark.unsafe.Platform (file:/opt/spark/jars/spark-unsafe_2.12-3.2.0.jar) to constructor java.nio.DirectByteBuffer(long,int)\n",
      "WARNING: Please consider reporting this to the maintainers of org.apache.spark.unsafe.Platform\n",
      "WARNING: Use --illegal-access=warn to enable warnings of further illegal reflective access operations\n",
      "WARNING: All illegal access operations will be denied in a future release\n"
     ]
    },
    {
     "name": "stdout",
     "output_type": "stream",
     "text": [
      ":: loading settings :: url = jar:file:/opt/spark/jars/ivy-2.5.0.jar!/org/apache/ivy/core/settings/ivysettings.xml\n"
     ]
    },
    {
     "name": "stderr",
     "output_type": "stream",
     "text": [
      "Ivy Default Cache set to: /home/tomas/.ivy2/cache\n",
      "The jars for the packages stored in: /home/tomas/.ivy2/jars\n",
      "io.delta#delta-core_2.12 added as a dependency\n",
      ":: resolving dependencies :: org.apache.spark#spark-submit-parent-854e7803-b90e-45ab-a04f-efe3ca073f8f;1.0\n",
      "\tconfs: [default]\n",
      "\tfound io.delta#delta-core_2.12;1.2.1 in central\n",
      "\tfound io.delta#delta-storage;1.2.1 in central\n",
      "\tfound org.antlr#antlr4-runtime;4.8 in central\n",
      "\tfound org.codehaus.jackson#jackson-core-asl;1.9.13 in central\n",
      ":: resolution report :: resolve 296ms :: artifacts dl 13ms\n",
      "\t:: modules in use:\n",
      "\tio.delta#delta-core_2.12;1.2.1 from central in [default]\n",
      "\tio.delta#delta-storage;1.2.1 from central in [default]\n",
      "\torg.antlr#antlr4-runtime;4.8 from central in [default]\n",
      "\torg.codehaus.jackson#jackson-core-asl;1.9.13 from central in [default]\n",
      "\t---------------------------------------------------------------------\n",
      "\t|                  |            modules            ||   artifacts   |\n",
      "\t|       conf       | number| search|dwnlded|evicted|| number|dwnlded|\n",
      "\t---------------------------------------------------------------------\n",
      "\t|      default     |   4   |   0   |   0   |   0   ||   4   |   0   |\n",
      "\t---------------------------------------------------------------------\n",
      ":: retrieving :: org.apache.spark#spark-submit-parent-854e7803-b90e-45ab-a04f-efe3ca073f8f\n",
      "\tconfs: [default]\n",
      "\t0 artifacts copied, 4 already retrieved (0kB/10ms)\n",
      "22/07/18 21:57:04 WARN NativeCodeLoader: Unable to load native-hadoop library for your platform... using builtin-java classes where applicable\n",
      "Using Spark's default log4j profile: org/apache/spark/log4j-defaults.properties\n",
      "Setting default log level to \"WARN\".\n",
      "To adjust logging level use sc.setLogLevel(newLevel). For SparkR, use setLogLevel(newLevel).\n"
     ]
    }
   ],
   "source": [
    "app_name = config['spark_application']['spark_app_batch_name']\n",
    "\n",
    "builder = (\n",
    "    SparkSession.builder.appName(app_name) \n",
    "    .config(\"spark.sql.extensions\", \"io.delta.sql.DeltaSparkSessionExtension\") \n",
    "    .config(\"spark.sql.catalog.spark_catalog\", \"org.apache.spark.sql.delta.catalog.DeltaCatalog\")\n",
    ")\n",
    "\n",
    "spark = configure_spark_with_delta_pip(builder).getOrCreate()"
   ]
  },
  {
   "cell_type": "markdown",
   "metadata": {},
   "source": [
    "#### Set the remaining ,,env'' variables"
   ]
  },
  {
   "cell_type": "code",
   "execution_count": 5,
   "metadata": {},
   "outputs": [],
   "source": [
    "meta_data_path = \"/home/tomas/Personal_projects/Aston_Villa/data/g1059778_Metadata.xml\"\n",
    "delta_player_path = config['batch']['delta_player_dir']\n",
    "delta_ball_path = config['batch']['delta_ball_dir']\n",
    "delta_feature_player_dir = config['batch']['delta_features_player_dir']\n",
    "delta_feature_ball_dir = config['batch']['delta_features_ball_dir']"
   ]
  },
  {
   "cell_type": "markdown",
   "metadata": {},
   "source": [
    "## Read the metadata"
   ]
  },
  {
   "cell_type": "code",
   "execution_count": 6,
   "metadata": {},
   "outputs": [
    {
     "name": "stdout",
     "output_type": "stream",
     "text": [
      "Match date: 2019-10-05\n",
      "Field dimension: (104.85, 67.97)\n"
     ]
    }
   ],
   "source": [
    "with open(meta_data_path,'r') as f:\n",
    "    metadata = f.read()\n",
    "\n",
    "match_metadata = BeautifulSoup(metadata,'xml')\n",
    "\n",
    "metadata_match_data = match_metadata.find('match').get('dtDate').split(' ')[0]\n",
    "field_x = float(match_metadata.find('match').get('fPitchXSizeMeters'))\n",
    "field_y = float(match_metadata.find('match').get('fPitchYSizeMeters'))\n",
    "metadata_field_dim = (field_x,field_y)\n",
    "\n",
    "print(f\"Match date: {metadata_match_data}\")\n",
    "print(f\"Field dimension: {metadata_field_dim}\")"
   ]
  },
  {
   "cell_type": "markdown",
   "metadata": {},
   "source": [
    "## Read the unified dataset for both ball and players"
   ]
  },
  {
   "cell_type": "code",
   "execution_count": 8,
   "metadata": {},
   "outputs": [
    {
     "name": "stderr",
     "output_type": "stream",
     "text": [
      "                                                                                \r"
     ]
    }
   ],
   "source": [
    "# unified_data_players_df = (\n",
    "#     spark\n",
    "#     .read\n",
    "#     .format(\"delta\")\n",
    "#     .load(delta_player_path)\n",
    "# )\n",
    "\n",
    "unified_data_ball_df = (\n",
    "    spark\n",
    "    .read\n",
    "    .format(\"delta\")\n",
    "    .load(delta_ball_path)\n",
    ")"
   ]
  },
  {
   "cell_type": "markdown",
   "metadata": {},
   "source": [
    "## Computing the performance\n",
    "\n",
    "In this part the performance of the players and ball for particular match is calulated. In the previous cell we  are loading a delta table including ingested player and ball dataset. \n",
    "Because duplications are present in the players dataset, it is needed to **deduplicate** this dataset for both home and away team players. Then do an aggregation for each home and away player and then union both results into the one dataset, which is than again save as a `delta` table."
   ]
  },
  {
   "cell_type": "markdown",
   "metadata": {},
   "source": [
    "#### Define the window functions\n",
    "\n",
    "`Window` functions have a crucial part in this task. With help of them, I can compute the rank of the players, lag of the columns ,etc."
   ]
  },
  {
   "cell_type": "code",
   "execution_count": null,
   "metadata": {},
   "outputs": [],
   "source": [
    "# Define the window functions\n",
    "windowTop = Window.partitionBy(\"away_home_team\").orderBy(F.col(\"player_avg_speed\").desc())\n",
    "\n",
    "windowDelta_home = Window.partitionBy(\"homePlayer_playerId\").orderBy(\"period\",\"gameClock\")\n",
    "windowDelta_away = Window.partitionBy(\"awayPlayer_playerId\").orderBy(\"period\",\"gameClock\")\n",
    "windowTimeDelta_home = Window.partitionBy(\"homePlayer_playerId\").orderBy(\"period\")\n",
    "windowTimeDelta_away = Window.partitionBy(\"awayPlayer_playerId\").orderBy(\"period\")"
   ]
  },
  {
   "cell_type": "code",
   "execution_count": null,
   "metadata": {},
   "outputs": [],
   "source": [
    "# Take the relevant columns\n",
    "columns = unified_data_players_df.columns\n",
    "\n",
    "home_columns = [col for col in columns if col.startswith('home')] + base_columns\n",
    "away_columns = [col for col in columns if col.startswith('away')] + base_columns"
   ]
  },
  {
   "cell_type": "markdown",
   "metadata": {},
   "source": [
    "#### Aggregation home players\n",
    "\n",
    "As was stated previously, we need to first deduplicated our data."
   ]
  },
  {
   "cell_type": "code",
   "execution_count": null,
   "metadata": {},
   "outputs": [],
   "source": [
    "home_players_df = (\n",
    "    unified_data_players_df\n",
    "    .select(home_columns)\n",
    "    .dropDuplicates()\n",
    ")\n",
    "\n",
    "home_grouped_df = (\n",
    "    home_players_df\n",
    "    .groupBy('homePlayer_playerId','match_date')\n",
    "    .agg(\n",
    "        F.avg('homePlayer_speed').alias('player_avg_speed'),\n",
    "        F.max('homePlayer_speed').alias('player_max_speed')\n",
    "    )\n",
    "    .withColumn('away_home_team',F.lit('home'))\n",
    "    .withColumnRenamed('homePlayer_playerId','playerId')\n",
    ")\n",
    "\n",
    "home_x_dir_df = (\n",
    "    home_players_df\n",
    "    .withColumn('x_pos_lag',F.lag(\"home_player_3d_position_x\",1).over(windowDelta_home))\n",
    "    .withColumn(\"time_lag\",F.lag(\"gameClock\").over(windowTimeDelta_home))\n",
    "    .fillna(0.0)\n",
    "    .withColumn(\"delta_x\",F.abs(F.col(\"home_player_3d_position_x\") - F.col(\"x_pos_lag\")))\n",
    "    .withColumn(\"delta_time\",F.col(\"gameClock\") - F.col(\"time_lag\"))\n",
    "    .withColumn(\"speed_x\", F.col(\"delta_x\")/F.col(\"delta_time\"))\n",
    "    .groupBy(\"homePlayer_playerId\")\n",
    "    .agg(F.max(\"speed_x\").alias(\"maximum_speed_x\"))\n",
    "    .withColumnRenamed(\"homePlayer_playerId\",\"playerId\")\n",
    "    .withColumn(\"away_home_team\",F.lit(\"home\"))\n",
    ")"
   ]
  },
  {
   "cell_type": "markdown",
   "metadata": {},
   "source": [
    "#### Aggregation away players"
   ]
  },
  {
   "cell_type": "code",
   "execution_count": null,
   "metadata": {},
   "outputs": [],
   "source": [
    "away_players_df = (\n",
    "    unified_data_players_df\n",
    "    .select(away_columns)\n",
    "    .dropDuplicates()\n",
    ")\n",
    "\n",
    "away_grouped_df = (\n",
    "    away_players_df\n",
    "    .groupBy('awayPlayer_playerId','match_date')\n",
    "    .agg(\n",
    "        F.avg('awayPlayer_speed').alias('player_avg_speed'),\n",
    "        F.max('awayPlayer_speed').alias('player_max_speed')\n",
    "    )\n",
    "    .withColumn('away_home_team',F.lit('away'))\n",
    "    .withColumnRenamed('awayPlayer_playerId','playerId')\n",
    ")\n",
    "\n",
    "away_x_dir_df = (\n",
    "    away_players_df\n",
    "    .withColumn('x_pos_lag',F.lag(\"away_player_3d_position_x\",1).over(windowDelta_away))\n",
    "    .withColumn(\"time_lag\",F.lag(\"gameClock\").over(windowTimeDelta_away))\n",
    "    .fillna(0.0)\n",
    "    .withColumn(\"delta_x\",F.abs(F.col(\"away_player_3d_position_x\") - F.col(\"x_pos_lag\")))\n",
    "    .withColumn(\"delta_time\",F.col(\"gameClock\") - F.col(\"time_lag\"))\n",
    "    .withColumn(\"speed_x\", F.col(\"delta_x\")/F.col(\"delta_time\"))\n",
    "    .groupBy(\"awayPlayer_playerId\")\n",
    "    .agg(F.max(\"speed_x\").alias(\"maximum_speed_x\"))\n",
    "    .withColumnRenamed(\"awayPlayer_playerId\",\"playerId\")\n",
    "    .withColumn(\"away_home_team\",F.lit(\"away\"))\n",
    ")\n"
   ]
  },
  {
   "cell_type": "code",
   "execution_count": null,
   "metadata": {},
   "outputs": [],
   "source": [
    "players_performance_df = (\n",
    "    home_grouped_df\n",
    "    .union(away_grouped_df)\n",
    ")\n",
    "\n",
    "speed_x_dir_df = (\n",
    "    home_x_dir_df\n",
    "    .union(away_x_dir_df)\n",
    ")\n",
    "\n",
    "\n",
    "player_perf_final_df = (\n",
    "    players_performance_df\n",
    "    .join(speed_x_dir_df.select(\"playerId\",\"maximum_speed_x\"), on = ['playerId'], how = 'left')\n",
    ")"
   ]
  },
  {
   "cell_type": "code",
   "execution_count": null,
   "metadata": {},
   "outputs": [],
   "source": [
    "if os.path.isdir(delta_feature_player_dir):\n",
    "\n",
    "    deltaTable = DeltaTable.forPath(spark, delta_feature_player_dir)\n",
    "\n",
    "    (\n",
    "        deltaTable.alias('oldData')\n",
    "        .merge(\n",
    "            player_perf_final_df.alias('newData'),\n",
    "            \"oldData.playerId = newData.playerId and oldData.match_date = oldData.match_date\"\n",
    "        )\n",
    "        .whenNotMatchedInsertAll()\n",
    "        .execute()\n",
    "    )\n",
    "else:\n",
    "\n",
    "    (\n",
    "        player_perf_final_df\n",
    "        .write\n",
    "        .format('delta')\n",
    "        .mode('overwrite')\n",
    "        .partitionBy('match_date')\n",
    "        .save(delta_feature_player_dir)\n",
    "    )\n"
   ]
  },
  {
   "cell_type": "markdown",
   "metadata": {},
   "source": [
    "### Ball performance"
   ]
  },
  {
   "cell_type": "code",
   "execution_count": 11,
   "metadata": {},
   "outputs": [],
   "source": [
    "ball_perf_df = (\n",
    "    unified_data_ball_df\n",
    "    .withColumn('ball_seconds',F.when(F.col('ballInsideBox') == True, 0.04).otherwise(0))\n",
    ")\n",
    "\n",
    "ball_perf_df_final = (\n",
    "    ball_perf_df\n",
    "    .groupBy(\"ballInsideBox\",\"match_date\")\n",
    "    .agg(\n",
    "        (F.sum('ball_seconds')/60).alias(\"minutes_inside_box\"),\n",
    "            F.count(\"ballInsideBox\").alias(\"n_times_inside_box\")\n",
    "    )\n",
    "    .filter(F.col(\"ballInsideBox\") == True)\n",
    ")\n"
   ]
  },
  {
   "cell_type": "code",
   "execution_count": 14,
   "metadata": {},
   "outputs": [
    {
     "name": "stderr",
     "output_type": "stream",
     "text": [
      "22/07/18 22:02:38 WARN MergeIntoCommand: Merge source has SQLMetric(id: 465, name: Some(number of source rows), value: 1) rows in initial scan but SQLMetric(id: 466, name: Some(number of source rows (during repeated scan)), value: 0) rows in second scan\n"
     ]
    }
   ],
   "source": [
    "if os.path.isdir(delta_feature_ball_dir):\n",
    "\n",
    "    deltaTable = DeltaTable.forPath(spark, delta_feature_ball_dir)\n",
    "\n",
    "    (\n",
    "        deltaTable.alias('oldData')\n",
    "        .merge(\n",
    "            ball_perf_df_final.alias('newData'),\n",
    "            \"oldData.match_date = newData.match_date\"\n",
    "        )\n",
    "        .whenNotMatchedInsertAll()\n",
    "        .execute()\n",
    "    )\n",
    "else:\n",
    "\n",
    "    (\n",
    "        ball_perf_df_final\n",
    "        .write\n",
    "        .format('delta')\n",
    "        .mode('overwrite')\n",
    "        .partitionBy('match_date')\n",
    "        .save(delta_feature_ball_dir)\n",
    "    )"
   ]
  }
 ],
 "metadata": {
  "interpreter": {
   "hash": "31f2aee4e71d21fbe5cf8b01ff0e069b9275f58929596ceb00d14d90e3e16cd6"
  },
  "kernelspec": {
   "display_name": "Python 3.8.10 64-bit",
   "language": "python",
   "name": "python3"
  },
  "language_info": {
   "codemirror_mode": {
    "name": "ipython",
    "version": 3
   },
   "file_extension": ".py",
   "mimetype": "text/x-python",
   "name": "python",
   "nbconvert_exporter": "python",
   "pygments_lexer": "ipython3",
   "version": "3.8.10"
  },
  "orig_nbformat": 4
 },
 "nbformat": 4,
 "nbformat_minor": 2
}
