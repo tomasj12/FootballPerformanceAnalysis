{
 "cells": [
  {
   "cell_type": "markdown",
   "metadata": {},
   "source": [
    "# Computing the player and the ball performmance\n",
    "\n",
    "**Purpose of the notebook:** The purpose of this notebook is to load unified dataset for both players and ball for computing the performance.\n",
    "\n",
    "**Input of the notebook:** The input data are unified match data.\n",
    "\n",
    "**Output of the notebook:** The output of this notebook is `delta` table. (maybe feature store in the future)\n",
    "\n",
    "**Some notes:**:\n",
    "* The `spark.DataFrame` will always have notation `_df` at the end of the name of variable\n",
    "* the `pandas.DataFrame` will always have notation `_pd` at the end of the name of variable"
   ]
  },
  {
   "cell_type": "markdown",
   "metadata": {},
   "source": [
    "## Set the environment\n",
    "\n",
    "In this part, the environment is set. The set up is:\n",
    "\n",
    "* Loading the necessary python modules and helper functions\n",
    "* Setting the path to data and metadata\n",
    "* Initialize the spark session\n",
    "\n",
    "Other config, such as `spark` application name, path, where the final `delta` table will be saved, etc. are defined in `config.yaml` file"
   ]
  },
  {
   "cell_type": "markdown",
   "metadata": {},
   "source": [
    "#### Import modules"
   ]
  },
  {
   "cell_type": "code",
   "execution_count": 1,
   "metadata": {},
   "outputs": [],
   "source": [
    "# Import the modules\n",
    "from pyspark.sql import SparkSession\n",
    "import pyspark.sql.functions as F\n",
    "import pyspark.sql.types as T\n",
    "from delta import *\n",
    "from utils import plot_pitch, ball_inside_box, read_config"
   ]
  },
  {
   "cell_type": "markdown",
   "metadata": {},
   "source": [
    "#### Read config"
   ]
  },
  {
   "cell_type": "code",
   "execution_count": 2,
   "metadata": {},
   "outputs": [],
   "source": [
    "config = read_config()"
   ]
  },
  {
   "cell_type": "markdown",
   "metadata": {},
   "source": [
    "#### Initialize spark session"
   ]
  },
  {
   "cell_type": "code",
   "execution_count": 3,
   "metadata": {},
   "outputs": [
    {
     "name": "stderr",
     "output_type": "stream",
     "text": [
      "22/07/18 16:01:34 WARN Utils: Your hostname, tomas-Yoga-Slim-7-Pro-14ACH5-O resolves to a loopback address: 127.0.1.1; using 192.168.0.53 instead (on interface wlp1s0)\n",
      "22/07/18 16:01:34 WARN Utils: Set SPARK_LOCAL_IP if you need to bind to another address\n",
      "WARNING: An illegal reflective access operation has occurred\n",
      "WARNING: Illegal reflective access by org.apache.spark.unsafe.Platform (file:/opt/spark/jars/spark-unsafe_2.12-3.2.0.jar) to constructor java.nio.DirectByteBuffer(long,int)\n",
      "WARNING: Please consider reporting this to the maintainers of org.apache.spark.unsafe.Platform\n",
      "WARNING: Use --illegal-access=warn to enable warnings of further illegal reflective access operations\n",
      "WARNING: All illegal access operations will be denied in a future release\n"
     ]
    },
    {
     "name": "stdout",
     "output_type": "stream",
     "text": [
      ":: loading settings :: url = jar:file:/opt/spark/jars/ivy-2.5.0.jar!/org/apache/ivy/core/settings/ivysettings.xml\n"
     ]
    },
    {
     "name": "stderr",
     "output_type": "stream",
     "text": [
      "Ivy Default Cache set to: /home/tomas/.ivy2/cache\n",
      "The jars for the packages stored in: /home/tomas/.ivy2/jars\n",
      "io.delta#delta-core_2.12 added as a dependency\n",
      ":: resolving dependencies :: org.apache.spark#spark-submit-parent-9ae56880-f1cd-4662-bda1-e2ca5f178ec0;1.0\n",
      "\tconfs: [default]\n",
      "\tfound io.delta#delta-core_2.12;1.2.1 in central\n",
      "\tfound io.delta#delta-storage;1.2.1 in central\n",
      "\tfound org.antlr#antlr4-runtime;4.8 in central\n",
      "\tfound org.codehaus.jackson#jackson-core-asl;1.9.13 in central\n",
      ":: resolution report :: resolve 258ms :: artifacts dl 9ms\n",
      "\t:: modules in use:\n",
      "\tio.delta#delta-core_2.12;1.2.1 from central in [default]\n",
      "\tio.delta#delta-storage;1.2.1 from central in [default]\n",
      "\torg.antlr#antlr4-runtime;4.8 from central in [default]\n",
      "\torg.codehaus.jackson#jackson-core-asl;1.9.13 from central in [default]\n",
      "\t---------------------------------------------------------------------\n",
      "\t|                  |            modules            ||   artifacts   |\n",
      "\t|       conf       | number| search|dwnlded|evicted|| number|dwnlded|\n",
      "\t---------------------------------------------------------------------\n",
      "\t|      default     |   4   |   0   |   0   |   0   ||   4   |   0   |\n",
      "\t---------------------------------------------------------------------\n",
      ":: retrieving :: org.apache.spark#spark-submit-parent-9ae56880-f1cd-4662-bda1-e2ca5f178ec0\n",
      "\tconfs: [default]\n",
      "\t0 artifacts copied, 4 already retrieved (0kB/8ms)\n",
      "22/07/18 16:01:35 WARN NativeCodeLoader: Unable to load native-hadoop library for your platform... using builtin-java classes where applicable\n",
      "Using Spark's default log4j profile: org/apache/spark/log4j-defaults.properties\n",
      "Setting default log level to \"WARN\".\n",
      "To adjust logging level use sc.setLogLevel(newLevel). For SparkR, use setLogLevel(newLevel).\n",
      "22/07/18 16:01:36 WARN Utils: Service 'SparkUI' could not bind on port 4040. Attempting port 4041.\n",
      "22/07/18 16:01:36 WARN Utils: Service 'SparkUI' could not bind on port 4041. Attempting port 4042.\n",
      "22/07/18 16:01:36 WARN Utils: Service 'SparkUI' could not bind on port 4042. Attempting port 4043.\n",
      "22/07/18 16:01:36 WARN Utils: Service 'SparkUI' could not bind on port 4043. Attempting port 4044.\n",
      "22/07/18 16:01:36 WARN Utils: Service 'SparkUI' could not bind on port 4044. Attempting port 4045.\n"
     ]
    }
   ],
   "source": [
    "app_name = config['spark_application']['spark_app_batch_name']\n",
    "\n",
    "builder = (\n",
    "    SparkSession.builder.appName(app_name) \n",
    "    .config(\"spark.sql.extensions\", \"io.delta.sql.DeltaSparkSessionExtension\") \n",
    "    .config(\"spark.sql.catalog.spark_catalog\", \"org.apache.spark.sql.delta.catalog.DeltaCatalog\")\n",
    ")\n",
    "\n",
    "spark = configure_spark_with_delta_pip(builder).getOrCreate()"
   ]
  },
  {
   "cell_type": "markdown",
   "metadata": {},
   "source": [
    "#### Set the remaining ,,env'' variables"
   ]
  },
  {
   "cell_type": "code",
   "execution_count": 4,
   "metadata": {},
   "outputs": [],
   "source": [
    "meta_data_path = \"/home/tomas/Personal_projects/Aston_Villa/data/g1059778_Metadata.xml\"\n",
    "delta_player_path = config['batch']['delta_player_dir']\n",
    "delta_ball_path = config['batch']['delta_ball_dir']\n",
    "delta_feature_player_dir = config['batch']['delta_features_player_dir']\n",
    "delta_feature_ball_dir = config['batch']['delta_features_ball_dir']"
   ]
  },
  {
   "cell_type": "markdown",
   "metadata": {},
   "source": [
    "## Read the metadata"
   ]
  },
  {
   "cell_type": "code",
   "execution_count": 5,
   "metadata": {},
   "outputs": [
    {
     "name": "stdout",
     "output_type": "stream",
     "text": [
      "Match date: 2019-10-05\n",
      "Field dimension: (104.85, 67.97)\n"
     ]
    }
   ],
   "source": [
    "from bs4 import BeautifulSoup\n",
    "\n",
    "with open('/home/tomas/Personal_projects/Aston_Villa/data/g1059778_Metadata.xml','r') as f:\n",
    "    metadata = f.read()\n",
    "\n",
    "match_metadata = BeautifulSoup(metadata,'xml')\n",
    "\n",
    "metadata_match_data = match_metadata.find('match').get('dtDate').split(' ')[0]\n",
    "field_x = float(match_metadata.find('match').get('fPitchXSizeMeters'))\n",
    "field_y = float(match_metadata.find('match').get('fPitchYSizeMeters'))\n",
    "metadata_field_dim = (field_x,field_y)\n",
    "\n",
    "print(f\"Match date: {metadata_match_data}\")\n",
    "print(f\"Field dimension: {metadata_field_dim}\")"
   ]
  },
  {
   "cell_type": "markdown",
   "metadata": {},
   "source": [
    "## Read the unified dataset for both ball and players"
   ]
  },
  {
   "cell_type": "code",
   "execution_count": 6,
   "metadata": {},
   "outputs": [
    {
     "ename": "AnalysisException",
     "evalue": "`/home/tomas/Personal_projects/Aston_Villa/task_1/PlayerPerformanceData` is not a Delta table.",
     "output_type": "error",
     "traceback": [
      "\u001b[0;31m---------------------------------------------------------------------------\u001b[0m",
      "\u001b[0;31mAnalysisException\u001b[0m                         Traceback (most recent call last)",
      "\u001b[1;32m/home/tomas/Personal_projects/Aston_Villa/task_1/player_ball_performance.ipynb Cell 14'\u001b[0m in \u001b[0;36m<cell line: 2>\u001b[0;34m()\u001b[0m\n\u001b[1;32m      <a href='vscode-notebook-cell:/home/tomas/Personal_projects/Aston_Villa/task_1/player_ball_performance.ipynb#ch0000016?line=0'>1</a>\u001b[0m unified_data_players_df \u001b[39m=\u001b[39m (\n\u001b[0;32m----> <a href='vscode-notebook-cell:/home/tomas/Personal_projects/Aston_Villa/task_1/player_ball_performance.ipynb#ch0000016?line=1'>2</a>\u001b[0m     spark\n\u001b[1;32m      <a href='vscode-notebook-cell:/home/tomas/Personal_projects/Aston_Villa/task_1/player_ball_performance.ipynb#ch0000016?line=2'>3</a>\u001b[0m     \u001b[39m.\u001b[39;49mread\n\u001b[1;32m      <a href='vscode-notebook-cell:/home/tomas/Personal_projects/Aston_Villa/task_1/player_ball_performance.ipynb#ch0000016?line=3'>4</a>\u001b[0m     \u001b[39m.\u001b[39;49mformat(\u001b[39m\"\u001b[39;49m\u001b[39mdelta\u001b[39;49m\u001b[39m\"\u001b[39;49m)\n\u001b[1;32m      <a href='vscode-notebook-cell:/home/tomas/Personal_projects/Aston_Villa/task_1/player_ball_performance.ipynb#ch0000016?line=4'>5</a>\u001b[0m     \u001b[39m.\u001b[39;49mload(delta_player_path)\n\u001b[1;32m      <a href='vscode-notebook-cell:/home/tomas/Personal_projects/Aston_Villa/task_1/player_ball_performance.ipynb#ch0000016?line=5'>6</a>\u001b[0m )\n\u001b[1;32m      <a href='vscode-notebook-cell:/home/tomas/Personal_projects/Aston_Villa/task_1/player_ball_performance.ipynb#ch0000016?line=7'>8</a>\u001b[0m unified_data_ball_df \u001b[39m=\u001b[39m (\n\u001b[1;32m      <a href='vscode-notebook-cell:/home/tomas/Personal_projects/Aston_Villa/task_1/player_ball_performance.ipynb#ch0000016?line=8'>9</a>\u001b[0m     spark\n\u001b[1;32m     <a href='vscode-notebook-cell:/home/tomas/Personal_projects/Aston_Villa/task_1/player_ball_performance.ipynb#ch0000016?line=9'>10</a>\u001b[0m     \u001b[39m.\u001b[39mread\n\u001b[1;32m     <a href='vscode-notebook-cell:/home/tomas/Personal_projects/Aston_Villa/task_1/player_ball_performance.ipynb#ch0000016?line=10'>11</a>\u001b[0m     \u001b[39m.\u001b[39mformat(\u001b[39m\"\u001b[39m\u001b[39mdelta\u001b[39m\u001b[39m\"\u001b[39m)\n\u001b[1;32m     <a href='vscode-notebook-cell:/home/tomas/Personal_projects/Aston_Villa/task_1/player_ball_performance.ipynb#ch0000016?line=11'>12</a>\u001b[0m     \u001b[39m.\u001b[39mload(delta_ball_path)\n\u001b[1;32m     <a href='vscode-notebook-cell:/home/tomas/Personal_projects/Aston_Villa/task_1/player_ball_performance.ipynb#ch0000016?line=12'>13</a>\u001b[0m )\n",
      "File \u001b[0;32m~/.local/lib/python3.8/site-packages/pyspark/sql/readwriter.py:158\u001b[0m, in \u001b[0;36mDataFrameReader.load\u001b[0;34m(self, path, format, schema, **options)\u001b[0m\n\u001b[1;32m    <a href='file:///home/tomas/.local/lib/python3.8/site-packages/pyspark/sql/readwriter.py?line=155'>156</a>\u001b[0m \u001b[39mself\u001b[39m\u001b[39m.\u001b[39moptions(\u001b[39m*\u001b[39m\u001b[39m*\u001b[39moptions)\n\u001b[1;32m    <a href='file:///home/tomas/.local/lib/python3.8/site-packages/pyspark/sql/readwriter.py?line=156'>157</a>\u001b[0m \u001b[39mif\u001b[39;00m \u001b[39misinstance\u001b[39m(path, \u001b[39mstr\u001b[39m):\n\u001b[0;32m--> <a href='file:///home/tomas/.local/lib/python3.8/site-packages/pyspark/sql/readwriter.py?line=157'>158</a>\u001b[0m     \u001b[39mreturn\u001b[39;00m \u001b[39mself\u001b[39m\u001b[39m.\u001b[39m_df(\u001b[39mself\u001b[39;49m\u001b[39m.\u001b[39;49m_jreader\u001b[39m.\u001b[39;49mload(path))\n\u001b[1;32m    <a href='file:///home/tomas/.local/lib/python3.8/site-packages/pyspark/sql/readwriter.py?line=158'>159</a>\u001b[0m \u001b[39melif\u001b[39;00m path \u001b[39mis\u001b[39;00m \u001b[39mnot\u001b[39;00m \u001b[39mNone\u001b[39;00m:\n\u001b[1;32m    <a href='file:///home/tomas/.local/lib/python3.8/site-packages/pyspark/sql/readwriter.py?line=159'>160</a>\u001b[0m     \u001b[39mif\u001b[39;00m \u001b[39mtype\u001b[39m(path) \u001b[39m!=\u001b[39m \u001b[39mlist\u001b[39m:\n",
      "File \u001b[0;32m~/.local/lib/python3.8/site-packages/py4j/java_gateway.py:1309\u001b[0m, in \u001b[0;36mJavaMember.__call__\u001b[0;34m(self, *args)\u001b[0m\n\u001b[1;32m   <a href='file:///home/tomas/.local/lib/python3.8/site-packages/py4j/java_gateway.py?line=1302'>1303</a>\u001b[0m command \u001b[39m=\u001b[39m proto\u001b[39m.\u001b[39mCALL_COMMAND_NAME \u001b[39m+\u001b[39m\\\n\u001b[1;32m   <a href='file:///home/tomas/.local/lib/python3.8/site-packages/py4j/java_gateway.py?line=1303'>1304</a>\u001b[0m     \u001b[39mself\u001b[39m\u001b[39m.\u001b[39mcommand_header \u001b[39m+\u001b[39m\\\n\u001b[1;32m   <a href='file:///home/tomas/.local/lib/python3.8/site-packages/py4j/java_gateway.py?line=1304'>1305</a>\u001b[0m     args_command \u001b[39m+\u001b[39m\\\n\u001b[1;32m   <a href='file:///home/tomas/.local/lib/python3.8/site-packages/py4j/java_gateway.py?line=1305'>1306</a>\u001b[0m     proto\u001b[39m.\u001b[39mEND_COMMAND_PART\n\u001b[1;32m   <a href='file:///home/tomas/.local/lib/python3.8/site-packages/py4j/java_gateway.py?line=1307'>1308</a>\u001b[0m answer \u001b[39m=\u001b[39m \u001b[39mself\u001b[39m\u001b[39m.\u001b[39mgateway_client\u001b[39m.\u001b[39msend_command(command)\n\u001b[0;32m-> <a href='file:///home/tomas/.local/lib/python3.8/site-packages/py4j/java_gateway.py?line=1308'>1309</a>\u001b[0m return_value \u001b[39m=\u001b[39m get_return_value(\n\u001b[1;32m   <a href='file:///home/tomas/.local/lib/python3.8/site-packages/py4j/java_gateway.py?line=1309'>1310</a>\u001b[0m     answer, \u001b[39mself\u001b[39;49m\u001b[39m.\u001b[39;49mgateway_client, \u001b[39mself\u001b[39;49m\u001b[39m.\u001b[39;49mtarget_id, \u001b[39mself\u001b[39;49m\u001b[39m.\u001b[39;49mname)\n\u001b[1;32m   <a href='file:///home/tomas/.local/lib/python3.8/site-packages/py4j/java_gateway.py?line=1311'>1312</a>\u001b[0m \u001b[39mfor\u001b[39;00m temp_arg \u001b[39min\u001b[39;00m temp_args:\n\u001b[1;32m   <a href='file:///home/tomas/.local/lib/python3.8/site-packages/py4j/java_gateway.py?line=1312'>1313</a>\u001b[0m     temp_arg\u001b[39m.\u001b[39m_detach()\n",
      "File \u001b[0;32m~/.local/lib/python3.8/site-packages/pyspark/sql/utils.py:117\u001b[0m, in \u001b[0;36mcapture_sql_exception.<locals>.deco\u001b[0;34m(*a, **kw)\u001b[0m\n\u001b[1;32m    <a href='file:///home/tomas/.local/lib/python3.8/site-packages/pyspark/sql/utils.py?line=112'>113</a>\u001b[0m converted \u001b[39m=\u001b[39m convert_exception(e\u001b[39m.\u001b[39mjava_exception)\n\u001b[1;32m    <a href='file:///home/tomas/.local/lib/python3.8/site-packages/pyspark/sql/utils.py?line=113'>114</a>\u001b[0m \u001b[39mif\u001b[39;00m \u001b[39mnot\u001b[39;00m \u001b[39misinstance\u001b[39m(converted, UnknownException):\n\u001b[1;32m    <a href='file:///home/tomas/.local/lib/python3.8/site-packages/pyspark/sql/utils.py?line=114'>115</a>\u001b[0m     \u001b[39m# Hide where the exception came from that shows a non-Pythonic\u001b[39;00m\n\u001b[1;32m    <a href='file:///home/tomas/.local/lib/python3.8/site-packages/pyspark/sql/utils.py?line=115'>116</a>\u001b[0m     \u001b[39m# JVM exception message.\u001b[39;00m\n\u001b[0;32m--> <a href='file:///home/tomas/.local/lib/python3.8/site-packages/pyspark/sql/utils.py?line=116'>117</a>\u001b[0m     \u001b[39mraise\u001b[39;00m converted \u001b[39mfrom\u001b[39;00m \u001b[39mNone\u001b[39m\n\u001b[1;32m    <a href='file:///home/tomas/.local/lib/python3.8/site-packages/pyspark/sql/utils.py?line=117'>118</a>\u001b[0m \u001b[39melse\u001b[39;00m:\n\u001b[1;32m    <a href='file:///home/tomas/.local/lib/python3.8/site-packages/pyspark/sql/utils.py?line=118'>119</a>\u001b[0m     \u001b[39mraise\u001b[39;00m\n",
      "\u001b[0;31mAnalysisException\u001b[0m: `/home/tomas/Personal_projects/Aston_Villa/task_1/PlayerPerformanceData` is not a Delta table."
     ]
    }
   ],
   "source": [
    "unified_data_players_df = (\n",
    "    spark\n",
    "    .read\n",
    "    .format(\"delta\")\n",
    "    .load(delta_player_path)\n",
    ")\n",
    "\n",
    "unified_data_ball_df = (\n",
    "    spark\n",
    "    .read\n",
    "    .format(\"delta\")\n",
    "    .load(delta_ball_path)\n",
    ")"
   ]
  },
  {
   "cell_type": "markdown",
   "metadata": {},
   "source": [
    "## Computing the performance\n",
    "\n",
    "In this part the performance of the players and ball for particular match is calulated. In the previous cell we  are loading a delta table including ingested player and ball dataset. \n",
    "Because duplications are present in the players dataset, it is needed to **deduplicate** this dataset for both home and away team players. Then do an aggregation for each home and away player and then union both results into the one dataset, which is than again save as a `delta` table."
   ]
  },
  {
   "cell_type": "markdown",
   "metadata": {},
   "source": [
    "#### Define the window functions\n",
    "\n",
    "`Window` functions have a crucial part in this task. With help of them, I can compute the rank of the players, lag of the columns ,etc."
   ]
  },
  {
   "cell_type": "code",
   "execution_count": null,
   "metadata": {},
   "outputs": [],
   "source": [
    "# Define the window functions\n",
    "windowTop = Window.partitionBy(\"away_home_team\").orderBy(F.col(\"player_avg_speed\").desc())\n",
    "\n",
    "windowDelta_home = Window.partitionBy(\"homePlayer_playerId\").orderBy(\"period\",\"gameClock\")\n",
    "windowDelta_away = Window.partitionBy(\"awayPlayer_playerId\").orderBy(\"period\",\"gameClock\")\n",
    "windowTimeDelta_home = Window.partitionBy(\"homePlayer_playerId\").orderBy(\"period\")\n",
    "windowTimeDelta_away = Window.partitionBy(\"awayPlayer_playerId\").orderBy(\"period\")"
   ]
  },
  {
   "cell_type": "code",
   "execution_count": null,
   "metadata": {},
   "outputs": [],
   "source": [
    "# Take the relevant columns\n",
    "columns = unified_data_players_df.columns\n",
    "\n",
    "home_columns = [col for col in columns if col.startswith('home')] + base_columns\n",
    "away_columns = [col for col in columns if col.startswith('away')] + base_columns"
   ]
  },
  {
   "cell_type": "markdown",
   "metadata": {},
   "source": [
    "#### Aggregation home players\n",
    "\n",
    "As was stated previously, we need to first deduplicated our data."
   ]
  },
  {
   "cell_type": "code",
   "execution_count": null,
   "metadata": {},
   "outputs": [],
   "source": [
    "home_players_df = (\n",
    "    unified_data_players_df\n",
    "    .select(home_columns)\n",
    "    .dropDuplicates()\n",
    ")\n",
    "\n",
    "home_grouped_df = (\n",
    "    home_df\n",
    "    .groupBy('homePlayer_playerId','match_date')\n",
    "    .agg(\n",
    "        F.avg('homePlayer_speed').alias('player_avg_speed'),\n",
    "        F.max('homePlayer_speed').alias('player_max_speed')\n",
    "    )\n",
    "    .withColumn('away_home_team',F.lit('home'))\n",
    "    .withColumnRenamed('homePlayer_playerId','playerId')\n",
    ")\n",
    "\n",
    "home_x_dir_df = (\n",
    "    home_df\n",
    "    .withColumn('x_pos_lag',F.lag(\"home_player_3d_position_x\",1).over(windowDelta_home))\n",
    "    .withColumn(\"time_lag\",F.lag(\"gameClock\").over(windowTimeDelta_home))\n",
    "    .fillna(0.0)\n",
    "    .withColumn(\"delta_x\",F.abs(F.col(\"home_player_3d_position_x\") - F.col(\"x_pos_lag\")))\n",
    "    .withColumn(\"delta_time\",F.col(\"gameClock\") - F.col(\"time_lag\"))\n",
    "    .withColumn(\"speed_x\", F.col(\"delta_x\")/F.col(\"delta_time\"))\n",
    "    .groupBy(\"homePlayer_playerId\")\n",
    "    .agg(F.max(\"speed_x\").alias(\"maximum_speed_x\"))\n",
    "    .withColumnRenamed(\"homePlayer_playerId\",\"playerId\")\n",
    "    .withColumn(\"away_home_team\",F.lit(\"home\"))\n",
    ")"
   ]
  },
  {
   "cell_type": "markdown",
   "metadata": {},
   "source": [
    "#### Aggregation away players"
   ]
  },
  {
   "cell_type": "code",
   "execution_count": null,
   "metadata": {},
   "outputs": [],
   "source": [
    "away_df = (\n",
    "    unified_data_players_df\n",
    "    .select(away_columns)\n",
    "    .dropDuplicates()\n",
    ")\n",
    "\n",
    "away_grouped_df = (\n",
    "    away_df\n",
    "    .groupBy('awayPlayer_playerId','match_date')\n",
    "    .agg(\n",
    "        F.avg('awayPlayer_speed').alias('player_avg_speed'),\n",
    "        F.max('awayPlayer_speed').alias('player_max_speed')\n",
    "    )\n",
    "    .withColumn('away_home_team',F.lit('away'))\n",
    "    .withColumnRenamed('awayPlayer_playerId','playerId')\n",
    ")\n",
    "\n",
    "away_x_dir_df = (\n",
    "    away_df\n",
    "    .withColumn('x_pos_lag',F.lag(\"away_player_3d_position_x\",1).over(windowDelta_away))\n",
    "    .withColumn(\"time_lag\",F.lag(\"gameClock\").over(windowTimeDelta_away))\n",
    "    .fillna(0.0)\n",
    "    .withColumn(\"delta_x\",F.abs(F.col(\"away_player_3d_position_x\") - F.col(\"x_pos_lag\")))\n",
    "    .withColumn(\"delta_time\",F.col(\"gameClock\") - F.col(\"time_lag\"))\n",
    "    .withColumn(\"speed_x\", F.col(\"delta_x\")/F.col(\"delta_time\"))\n",
    "    .groupBy(\"awayPlayer_playerId\")\n",
    "    .agg(F.max(\"speed_x\").alias(\"maximum_speed_x\"))\n",
    "    .withColumnRenamed(\"awayPlayer_playerId\",\"playerId\")\n",
    "    .withColumn(\"away_home_team\",F.lit(\"away\"))\n",
    ")\n"
   ]
  },
  {
   "cell_type": "code",
   "execution_count": null,
   "metadata": {},
   "outputs": [],
   "source": [
    "players_performance_df = (\n",
    "    home_grouped_df\n",
    "    .union(away_grouped_df)\n",
    ")\n",
    "\n",
    "speed_x_dir_df = (\n",
    "    home_x_dir_df\n",
    "    .union(away_x_dir_df)\n",
    ")\n",
    "\n",
    "\n",
    "player_perf_final_df = (\n",
    "    players_performance_df\n",
    "    .join(speed_x_dir.select(\"playerId\",\"maximum_speed_x\"), on = ['playerId'], how = 'left')\n",
    ")"
   ]
  },
  {
   "cell_type": "code",
   "execution_count": null,
   "metadata": {},
   "outputs": [],
   "source": [
    "if os.path.isdir(delta_feature_player_dir):\n",
    "\n",
    "    deltaTable = DeltaTable.forPath(spark, delta_feature_player_dir)\n",
    "\n",
    "    (\n",
    "        deltaTable.alias('oldData')\n",
    "        .merge(\n",
    "            player_perf_final_df.alias('newData'),\n",
    "            \"oldData.playerId = newData.playerId\"\n",
    "        )\n",
    "        .whenNotMatchedInsertAll()\n",
    "        .execute()\n",
    "    )\n",
    "else:\n",
    "\n",
    "    (\n",
    "        player_perf_final_df\n",
    "        .write\n",
    "        .format('delta')\n",
    "        .mode('overwrite')\n",
    "        .partitionBy('match_date')\n",
    "        .save(delta_feature_player_dir)\n",
    "    )\n"
   ]
  },
  {
   "cell_type": "markdown",
   "metadata": {},
   "source": [
    "### Ball performance"
   ]
  },
  {
   "cell_type": "code",
   "execution_count": null,
   "metadata": {},
   "outputs": [],
   "source": [
    "ball_perf_df = (\n",
    "    temp_df\n",
    "    .withColumn('ball_seconds',F.when(F.col('ball_inside_box') == True, 0.04).otherwise(0))\n",
    ")\n",
    "\n",
    "ball_perf_df_final = (\n",
    "    ball_perf\n",
    "    .groupBy(\"ball_inside_box\")\n",
    "    .agg(\n",
    "        (F.sum('ball_seconds')/60).alias(\"minutes_inside_box\"),\n",
    "            F.count(\"ball_inside_box\").alias(\"n_times_inside_box\")\n",
    "    )\n",
    "    .filter(F.col(\"ball_inside_box\") == True)\n",
    ")\n"
   ]
  },
  {
   "cell_type": "code",
   "execution_count": null,
   "metadata": {},
   "outputs": [],
   "source": [
    "if os.path.isdir(delta_feature_ball_dir):\n",
    "\n",
    "    deltaTable = DeltaTable.forPath(spark, delta_feature_ball_dir)\n",
    "\n",
    "    (\n",
    "        deltaTable.alias('oldData')\n",
    "        .merge(\n",
    "            ball_perf_df_final.alias('newData'),\n",
    "            \"oldData.playerId = newData.playerId\"\n",
    "        )\n",
    "        .whenNotMatchedInsertAll()\n",
    "        .execute()\n",
    "    )\n",
    "else:\n",
    "\n",
    "    (\n",
    "        ball_perf_df_final\n",
    "        .write\n",
    "        .format('delta')\n",
    "        .mode('overwrite')\n",
    "        .partitionBy('match_date')\n",
    "        .save(delta_feature_ball_dir)\n",
    "    )"
   ]
  }
 ],
 "metadata": {
  "interpreter": {
   "hash": "31f2aee4e71d21fbe5cf8b01ff0e069b9275f58929596ceb00d14d90e3e16cd6"
  },
  "kernelspec": {
   "display_name": "Python 3.8.10 64-bit",
   "language": "python",
   "name": "python3"
  },
  "language_info": {
   "codemirror_mode": {
    "name": "ipython",
    "version": 3
   },
   "file_extension": ".py",
   "mimetype": "text/x-python",
   "name": "python",
   "nbconvert_exporter": "python",
   "pygments_lexer": "ipython3",
   "version": "3.8.10"
  },
  "orig_nbformat": 4
 },
 "nbformat": 4,
 "nbformat_minor": 2
}
