{
 "cells": [
  {
   "cell_type": "markdown",
   "metadata": {},
   "source": [
    "# Loading the match data notebook\n",
    "\n",
    "**Purpose of the notebook:** The purpose of this notebook is to load and unified the data for the further aggregations. This is the necessary part for the data loading.\n",
    "\n",
    "**Input of the notebook:** The input data are raw match data.\n",
    "\n",
    "**Output of the notebook:** The output of this notebook is `delta` table. \n",
    "\n",
    "**Some notes:**:\n",
    "* The `spark.DataFrame` will always have notation `_df` at the end of the name of variable\n",
    "* the `pandas.DataFrame` will always have notation `_pd` at the end of the name of variable"
   ]
  },
  {
   "cell_type": "markdown",
   "metadata": {},
   "source": [
    "## Set the environment\n",
    "\n",
    "In this part, the environment is set. The set up is:\n",
    "\n",
    "* Loading the necessary python modules and helper functions\n",
    "* Setting the path to data and metadata\n",
    "* Initialize the spark session\n",
    "\n",
    "Other config, such as `spark` application name, path, where the final `delta` table will be saved, etc. are defined in `config.yaml` file"
   ]
  },
  {
   "cell_type": "markdown",
   "metadata": {},
   "source": [
    "#### Import modules"
   ]
  },
  {
   "cell_type": "code",
   "execution_count": 18,
   "metadata": {},
   "outputs": [],
   "source": [
    "# Import the modules\n",
    "from pyspark.sql import SparkSession\n",
    "import pyspark.sql.functions as F\n",
    "import pyspark.sql.types as T\n",
    "from delta import *\n",
    "from utils import plot_pitch, ball_inside_box, read_config"
   ]
  },
  {
   "cell_type": "markdown",
   "metadata": {},
   "source": [
    "#### Read config"
   ]
  },
  {
   "cell_type": "code",
   "execution_count": 19,
   "metadata": {},
   "outputs": [],
   "source": [
    "config = read_config()"
   ]
  },
  {
   "cell_type": "markdown",
   "metadata": {},
   "source": [
    "#### Initialize spark session"
   ]
  },
  {
   "cell_type": "code",
   "execution_count": 20,
   "metadata": {},
   "outputs": [
    {
     "ename": "ConnectionRefusedError",
     "evalue": "[Errno 111] Connection refused",
     "output_type": "error",
     "traceback": [
      "\u001b[0;31m---------------------------------------------------------------------------\u001b[0m",
      "\u001b[0;31mConnectionRefusedError\u001b[0m                    Traceback (most recent call last)",
      "\u001b[1;32m/home/tomas/Personal_projects/Aston_Villa/task_1/load_save_unified_data.ipynb Cell 8'\u001b[0m in \u001b[0;36m<cell line: 9>\u001b[0;34m()\u001b[0m\n\u001b[1;32m      <a href='vscode-notebook-cell:/home/tomas/Personal_projects/Aston_Villa/task_1/load_save_unified_data.ipynb#ch0000009?line=0'>1</a>\u001b[0m app_name \u001b[39m=\u001b[39m config[\u001b[39m'\u001b[39m\u001b[39mspark_application\u001b[39m\u001b[39m'\u001b[39m][\u001b[39m'\u001b[39m\u001b[39mspark_app_batch_name\u001b[39m\u001b[39m'\u001b[39m]\n\u001b[1;32m      <a href='vscode-notebook-cell:/home/tomas/Personal_projects/Aston_Villa/task_1/load_save_unified_data.ipynb#ch0000009?line=2'>3</a>\u001b[0m builder \u001b[39m=\u001b[39m (\n\u001b[1;32m      <a href='vscode-notebook-cell:/home/tomas/Personal_projects/Aston_Villa/task_1/load_save_unified_data.ipynb#ch0000009?line=3'>4</a>\u001b[0m     SparkSession\u001b[39m.\u001b[39mbuilder\u001b[39m.\u001b[39mappName(app_name) \n\u001b[1;32m      <a href='vscode-notebook-cell:/home/tomas/Personal_projects/Aston_Villa/task_1/load_save_unified_data.ipynb#ch0000009?line=4'>5</a>\u001b[0m     \u001b[39m.\u001b[39mconfig(\u001b[39m\"\u001b[39m\u001b[39mspark.sql.extensions\u001b[39m\u001b[39m\"\u001b[39m, \u001b[39m\"\u001b[39m\u001b[39mio.delta.sql.DeltaSparkSessionExtension\u001b[39m\u001b[39m\"\u001b[39m) \n\u001b[1;32m      <a href='vscode-notebook-cell:/home/tomas/Personal_projects/Aston_Villa/task_1/load_save_unified_data.ipynb#ch0000009?line=5'>6</a>\u001b[0m     \u001b[39m.\u001b[39mconfig(\u001b[39m\"\u001b[39m\u001b[39mspark.sql.catalog.spark_catalog\u001b[39m\u001b[39m\"\u001b[39m, \u001b[39m\"\u001b[39m\u001b[39morg.apache.spark.sql.delta.catalog.DeltaCatalog\u001b[39m\u001b[39m\"\u001b[39m)\n\u001b[1;32m      <a href='vscode-notebook-cell:/home/tomas/Personal_projects/Aston_Villa/task_1/load_save_unified_data.ipynb#ch0000009?line=6'>7</a>\u001b[0m )\n\u001b[0;32m----> <a href='vscode-notebook-cell:/home/tomas/Personal_projects/Aston_Villa/task_1/load_save_unified_data.ipynb#ch0000009?line=8'>9</a>\u001b[0m spark \u001b[39m=\u001b[39m configure_spark_with_delta_pip(builder)\u001b[39m.\u001b[39;49mgetOrCreate()\n",
      "File \u001b[0;32m~/.local/lib/python3.8/site-packages/pyspark/sql/session.py:233\u001b[0m, in \u001b[0;36mSparkSession.Builder.getOrCreate\u001b[0;34m(self)\u001b[0m\n\u001b[1;32m    <a href='file:///home/tomas/.local/lib/python3.8/site-packages/pyspark/sql/session.py?line=230'>231</a>\u001b[0m     session \u001b[39m=\u001b[39m SparkSession(sc)\n\u001b[1;32m    <a href='file:///home/tomas/.local/lib/python3.8/site-packages/pyspark/sql/session.py?line=231'>232</a>\u001b[0m \u001b[39mfor\u001b[39;00m key, value \u001b[39min\u001b[39;00m \u001b[39mself\u001b[39m\u001b[39m.\u001b[39m_options\u001b[39m.\u001b[39mitems():\n\u001b[0;32m--> <a href='file:///home/tomas/.local/lib/python3.8/site-packages/pyspark/sql/session.py?line=232'>233</a>\u001b[0m     session\u001b[39m.\u001b[39;49m_jsparkSession\u001b[39m.\u001b[39;49msessionState()\u001b[39m.\u001b[39mconf()\u001b[39m.\u001b[39msetConfString(key, value)\n\u001b[1;32m    <a href='file:///home/tomas/.local/lib/python3.8/site-packages/pyspark/sql/session.py?line=233'>234</a>\u001b[0m \u001b[39mreturn\u001b[39;00m session\n",
      "File \u001b[0;32m~/.local/lib/python3.8/site-packages/py4j/java_gateway.py:1308\u001b[0m, in \u001b[0;36mJavaMember.__call__\u001b[0;34m(self, *args)\u001b[0m\n\u001b[1;32m   <a href='file:///home/tomas/.local/lib/python3.8/site-packages/py4j/java_gateway.py?line=1300'>1301</a>\u001b[0m args_command, temp_args \u001b[39m=\u001b[39m \u001b[39mself\u001b[39m\u001b[39m.\u001b[39m_build_args(\u001b[39m*\u001b[39margs)\n\u001b[1;32m   <a href='file:///home/tomas/.local/lib/python3.8/site-packages/py4j/java_gateway.py?line=1302'>1303</a>\u001b[0m command \u001b[39m=\u001b[39m proto\u001b[39m.\u001b[39mCALL_COMMAND_NAME \u001b[39m+\u001b[39m\\\n\u001b[1;32m   <a href='file:///home/tomas/.local/lib/python3.8/site-packages/py4j/java_gateway.py?line=1303'>1304</a>\u001b[0m     \u001b[39mself\u001b[39m\u001b[39m.\u001b[39mcommand_header \u001b[39m+\u001b[39m\\\n\u001b[1;32m   <a href='file:///home/tomas/.local/lib/python3.8/site-packages/py4j/java_gateway.py?line=1304'>1305</a>\u001b[0m     args_command \u001b[39m+\u001b[39m\\\n\u001b[1;32m   <a href='file:///home/tomas/.local/lib/python3.8/site-packages/py4j/java_gateway.py?line=1305'>1306</a>\u001b[0m     proto\u001b[39m.\u001b[39mEND_COMMAND_PART\n\u001b[0;32m-> <a href='file:///home/tomas/.local/lib/python3.8/site-packages/py4j/java_gateway.py?line=1307'>1308</a>\u001b[0m answer \u001b[39m=\u001b[39m \u001b[39mself\u001b[39;49m\u001b[39m.\u001b[39;49mgateway_client\u001b[39m.\u001b[39;49msend_command(command)\n\u001b[1;32m   <a href='file:///home/tomas/.local/lib/python3.8/site-packages/py4j/java_gateway.py?line=1308'>1309</a>\u001b[0m return_value \u001b[39m=\u001b[39m get_return_value(\n\u001b[1;32m   <a href='file:///home/tomas/.local/lib/python3.8/site-packages/py4j/java_gateway.py?line=1309'>1310</a>\u001b[0m     answer, \u001b[39mself\u001b[39m\u001b[39m.\u001b[39mgateway_client, \u001b[39mself\u001b[39m\u001b[39m.\u001b[39mtarget_id, \u001b[39mself\u001b[39m\u001b[39m.\u001b[39mname)\n\u001b[1;32m   <a href='file:///home/tomas/.local/lib/python3.8/site-packages/py4j/java_gateway.py?line=1311'>1312</a>\u001b[0m \u001b[39mfor\u001b[39;00m temp_arg \u001b[39min\u001b[39;00m temp_args:\n",
      "File \u001b[0;32m~/.local/lib/python3.8/site-packages/py4j/java_gateway.py:1036\u001b[0m, in \u001b[0;36mGatewayClient.send_command\u001b[0;34m(self, command, retry, binary)\u001b[0m\n\u001b[1;32m   <a href='file:///home/tomas/.local/lib/python3.8/site-packages/py4j/java_gateway.py?line=1014'>1015</a>\u001b[0m \u001b[39mdef\u001b[39;00m \u001b[39msend_command\u001b[39m(\u001b[39mself\u001b[39m, command, retry\u001b[39m=\u001b[39m\u001b[39mTrue\u001b[39;00m, binary\u001b[39m=\u001b[39m\u001b[39mFalse\u001b[39;00m):\n\u001b[1;32m   <a href='file:///home/tomas/.local/lib/python3.8/site-packages/py4j/java_gateway.py?line=1015'>1016</a>\u001b[0m     \u001b[39m\"\"\"Sends a command to the JVM. This method is not intended to be\u001b[39;00m\n\u001b[1;32m   <a href='file:///home/tomas/.local/lib/python3.8/site-packages/py4j/java_gateway.py?line=1016'>1017</a>\u001b[0m \u001b[39m       called directly by Py4J users. It is usually called by\u001b[39;00m\n\u001b[1;32m   <a href='file:///home/tomas/.local/lib/python3.8/site-packages/py4j/java_gateway.py?line=1017'>1018</a>\u001b[0m \u001b[39m       :class:`JavaMember` instances.\u001b[39;00m\n\u001b[0;32m   (...)\u001b[0m\n\u001b[1;32m   <a href='file:///home/tomas/.local/lib/python3.8/site-packages/py4j/java_gateway.py?line=1033'>1034</a>\u001b[0m \u001b[39m     if `binary` is `True`.\u001b[39;00m\n\u001b[1;32m   <a href='file:///home/tomas/.local/lib/python3.8/site-packages/py4j/java_gateway.py?line=1034'>1035</a>\u001b[0m \u001b[39m    \"\"\"\u001b[39;00m\n\u001b[0;32m-> <a href='file:///home/tomas/.local/lib/python3.8/site-packages/py4j/java_gateway.py?line=1035'>1036</a>\u001b[0m     connection \u001b[39m=\u001b[39m \u001b[39mself\u001b[39;49m\u001b[39m.\u001b[39;49m_get_connection()\n\u001b[1;32m   <a href='file:///home/tomas/.local/lib/python3.8/site-packages/py4j/java_gateway.py?line=1036'>1037</a>\u001b[0m     \u001b[39mtry\u001b[39;00m:\n\u001b[1;32m   <a href='file:///home/tomas/.local/lib/python3.8/site-packages/py4j/java_gateway.py?line=1037'>1038</a>\u001b[0m         response \u001b[39m=\u001b[39m connection\u001b[39m.\u001b[39msend_command(command)\n",
      "File \u001b[0;32m~/.local/lib/python3.8/site-packages/py4j/clientserver.py:281\u001b[0m, in \u001b[0;36mJavaClient._get_connection\u001b[0;34m(self)\u001b[0m\n\u001b[1;32m    <a href='file:///home/tomas/.local/lib/python3.8/site-packages/py4j/clientserver.py?line=277'>278</a>\u001b[0m     \u001b[39mpass\u001b[39;00m\n\u001b[1;32m    <a href='file:///home/tomas/.local/lib/python3.8/site-packages/py4j/clientserver.py?line=279'>280</a>\u001b[0m \u001b[39mif\u001b[39;00m connection \u001b[39mis\u001b[39;00m \u001b[39mNone\u001b[39;00m \u001b[39mor\u001b[39;00m connection\u001b[39m.\u001b[39msocket \u001b[39mis\u001b[39;00m \u001b[39mNone\u001b[39;00m:\n\u001b[0;32m--> <a href='file:///home/tomas/.local/lib/python3.8/site-packages/py4j/clientserver.py?line=280'>281</a>\u001b[0m     connection \u001b[39m=\u001b[39m \u001b[39mself\u001b[39;49m\u001b[39m.\u001b[39;49m_create_new_connection()\n\u001b[1;32m    <a href='file:///home/tomas/.local/lib/python3.8/site-packages/py4j/clientserver.py?line=281'>282</a>\u001b[0m \u001b[39mreturn\u001b[39;00m connection\n",
      "File \u001b[0;32m~/.local/lib/python3.8/site-packages/py4j/clientserver.py:288\u001b[0m, in \u001b[0;36mJavaClient._create_new_connection\u001b[0;34m(self)\u001b[0m\n\u001b[1;32m    <a href='file:///home/tomas/.local/lib/python3.8/site-packages/py4j/clientserver.py?line=283'>284</a>\u001b[0m \u001b[39mdef\u001b[39;00m \u001b[39m_create_new_connection\u001b[39m(\u001b[39mself\u001b[39m):\n\u001b[1;32m    <a href='file:///home/tomas/.local/lib/python3.8/site-packages/py4j/clientserver.py?line=284'>285</a>\u001b[0m     connection \u001b[39m=\u001b[39m ClientServerConnection(\n\u001b[1;32m    <a href='file:///home/tomas/.local/lib/python3.8/site-packages/py4j/clientserver.py?line=285'>286</a>\u001b[0m         \u001b[39mself\u001b[39m\u001b[39m.\u001b[39mjava_parameters, \u001b[39mself\u001b[39m\u001b[39m.\u001b[39mpython_parameters,\n\u001b[1;32m    <a href='file:///home/tomas/.local/lib/python3.8/site-packages/py4j/clientserver.py?line=286'>287</a>\u001b[0m         \u001b[39mself\u001b[39m\u001b[39m.\u001b[39mgateway_property, \u001b[39mself\u001b[39m)\n\u001b[0;32m--> <a href='file:///home/tomas/.local/lib/python3.8/site-packages/py4j/clientserver.py?line=287'>288</a>\u001b[0m     connection\u001b[39m.\u001b[39;49mconnect_to_java_server()\n\u001b[1;32m    <a href='file:///home/tomas/.local/lib/python3.8/site-packages/py4j/clientserver.py?line=288'>289</a>\u001b[0m     \u001b[39mself\u001b[39m\u001b[39m.\u001b[39mset_thread_connection(connection)\n\u001b[1;32m    <a href='file:///home/tomas/.local/lib/python3.8/site-packages/py4j/clientserver.py?line=289'>290</a>\u001b[0m     \u001b[39mreturn\u001b[39;00m connection\n",
      "File \u001b[0;32m~/.local/lib/python3.8/site-packages/py4j/clientserver.py:402\u001b[0m, in \u001b[0;36mClientServerConnection.connect_to_java_server\u001b[0;34m(self)\u001b[0m\n\u001b[1;32m    <a href='file:///home/tomas/.local/lib/python3.8/site-packages/py4j/clientserver.py?line=398'>399</a>\u001b[0m \u001b[39mif\u001b[39;00m \u001b[39mself\u001b[39m\u001b[39m.\u001b[39mssl_context:\n\u001b[1;32m    <a href='file:///home/tomas/.local/lib/python3.8/site-packages/py4j/clientserver.py?line=399'>400</a>\u001b[0m     \u001b[39mself\u001b[39m\u001b[39m.\u001b[39msocket \u001b[39m=\u001b[39m \u001b[39mself\u001b[39m\u001b[39m.\u001b[39mssl_context\u001b[39m.\u001b[39mwrap_socket(\n\u001b[1;32m    <a href='file:///home/tomas/.local/lib/python3.8/site-packages/py4j/clientserver.py?line=400'>401</a>\u001b[0m         \u001b[39mself\u001b[39m\u001b[39m.\u001b[39msocket, server_hostname\u001b[39m=\u001b[39m\u001b[39mself\u001b[39m\u001b[39m.\u001b[39mjava_address)\n\u001b[0;32m--> <a href='file:///home/tomas/.local/lib/python3.8/site-packages/py4j/clientserver.py?line=401'>402</a>\u001b[0m \u001b[39mself\u001b[39;49m\u001b[39m.\u001b[39;49msocket\u001b[39m.\u001b[39;49mconnect((\u001b[39mself\u001b[39;49m\u001b[39m.\u001b[39;49mjava_address, \u001b[39mself\u001b[39;49m\u001b[39m.\u001b[39;49mjava_port))\n\u001b[1;32m    <a href='file:///home/tomas/.local/lib/python3.8/site-packages/py4j/clientserver.py?line=402'>403</a>\u001b[0m \u001b[39mself\u001b[39m\u001b[39m.\u001b[39mstream \u001b[39m=\u001b[39m \u001b[39mself\u001b[39m\u001b[39m.\u001b[39msocket\u001b[39m.\u001b[39mmakefile(\u001b[39m\"\u001b[39m\u001b[39mrb\u001b[39m\u001b[39m\"\u001b[39m)\n\u001b[1;32m    <a href='file:///home/tomas/.local/lib/python3.8/site-packages/py4j/clientserver.py?line=403'>404</a>\u001b[0m \u001b[39mself\u001b[39m\u001b[39m.\u001b[39mis_connected \u001b[39m=\u001b[39m \u001b[39mTrue\u001b[39;00m\n",
      "\u001b[0;31mConnectionRefusedError\u001b[0m: [Errno 111] Connection refused"
     ]
    }
   ],
   "source": [
    "app_name = config['spark_application']['spark_app_batch_name']\n",
    "\n",
    "builder = (\n",
    "    SparkSession.builder.appName(app_name) \n",
    "    .config(\"spark.sql.extensions\", \"io.delta.sql.DeltaSparkSessionExtension\") \n",
    "    .config(\"spark.sql.catalog.spark_catalog\", \"org.apache.spark.sql.delta.catalog.DeltaCatalog\")\n",
    ")\n",
    "\n",
    "spark = configure_spark_with_delta_pip(builder).getOrCreate()"
   ]
  },
  {
   "cell_type": "markdown",
   "metadata": {},
   "source": [
    "#### Set the remaining ,,env'' variables"
   ]
  },
  {
   "cell_type": "code",
   "execution_count": null,
   "metadata": {},
   "outputs": [],
   "source": [
    "raw_data_path = \"g1059778_Data.jsonl\"\n",
    "meta_data_path = \"/home/tomas/Personal_projects/Aston_Villa/data/g1059778_Metadata.xml\"\n",
    "delta_player_path = config['batch']['delta_player_dir']\n",
    "delta_ball_path = config['batch']['delta_ball_dir']"
   ]
  },
  {
   "cell_type": "markdown",
   "metadata": {},
   "source": [
    "## Read the raw match data"
   ]
  },
  {
   "cell_type": "code",
   "execution_count": null,
   "metadata": {},
   "outputs": [
    {
     "name": "stderr",
     "output_type": "stream",
     "text": [
      "                                                                                \r"
     ]
    }
   ],
   "source": [
    "raw_match_data_df = (\n",
    "    spark\n",
    "    .read\n",
    "    .json(raw_data_path)\n",
    ")"
   ]
  },
  {
   "cell_type": "markdown",
   "metadata": {},
   "source": [
    "## Read the metadata"
   ]
  },
  {
   "cell_type": "code",
   "execution_count": null,
   "metadata": {},
   "outputs": [
    {
     "name": "stdout",
     "output_type": "stream",
     "text": [
      "Match date: 2019-10-05\n",
      "Field dimension: (104.85, 67.97)\n"
     ]
    }
   ],
   "source": [
    "from bs4 import BeautifulSoup\n",
    "\n",
    "with open('/home/tomas/Personal_projects/Aston_Villa/data/g1059778_Metadata.xml','r') as f:\n",
    "    metadata = f.read()\n",
    "\n",
    "match_metadata = BeautifulSoup(metadata,'xml')\n",
    "\n",
    "metadata_match_data = match_metadata.find('match').get('dtDate').split(' ')[0]\n",
    "field_x = float(match_metadata.find('match').get('fPitchXSizeMeters'))\n",
    "field_y = float(match_metadata.find('match').get('fPitchYSizeMeters'))\n",
    "metadata_field_dim = (field_x,field_y)\n",
    "\n",
    "print(f\"Match date: {metadata_match_data}\")\n",
    "print(f\"Field dimension: {metadata_field_dim}\")"
   ]
  },
  {
   "cell_type": "markdown",
   "metadata": {},
   "source": [
    "## Unifying the data\n",
    "\n",
    "In this part, the unified dataset is created. It is needed to somehow extract the values from the each `array` column (`homePlayers`,`awayPlayers`, `ball`). \n",
    "\n",
    "**Note: This approach will lead to duplicated dataset. However, for just storing the ingested raw data, it does not matter.**\n",
    "\n",
    "In the cell below:\n",
    "* `wallClock` is transformed to seconds and then the date of the match is extracted (the unique key). This will help us for identify ieach match uniquely and also tables can be partiotned by this column.\n",
    "* Also we get the timestamp from `wallClock` column"
   ]
  },
  {
   "cell_type": "code",
   "execution_count": null,
   "metadata": {},
   "outputs": [],
   "source": [
    "\n",
    "match_date_df = (\n",
    "    raw_match_data_df\n",
    "    .withColumn('match_date', F.from_unixtime(F.col('wallClock')/1000, 'yyyy-MM-dd')) \n",
    "    .withColumn('match_timestamp',F.from_unixtime(F.col('wallClock')/1000, 'yyyy-MM-dd HH:mm:ss:S'))\n",
    ")"
   ]
  },
  {
   "cell_type": "code",
   "execution_count": null,
   "metadata": {},
   "outputs": [
    {
     "name": "stdout",
     "output_type": "stream",
     "text": [
      "+-------------+----------+---------------------+\n",
      "|wallClock    |match_date|match_timestamp      |\n",
      "+-------------+----------+---------------------+\n",
      "|1570284007331|2019-10-05|2019-10-05 16:00:07:0|\n",
      "|1570284007371|2019-10-05|2019-10-05 16:00:07:0|\n",
      "|1570284007411|2019-10-05|2019-10-05 16:00:07:0|\n",
      "|1570284007451|2019-10-05|2019-10-05 16:00:07:0|\n",
      "|1570284007491|2019-10-05|2019-10-05 16:00:07:0|\n",
      "+-------------+----------+---------------------+\n",
      "only showing top 5 rows\n",
      "\n"
     ]
    }
   ],
   "source": [
    "(\n",
    "    match_date_df\n",
    "    .select('wallClock','match_date','match_timestamp')\n",
    ").show(5,truncate=False)"
   ]
  },
  {
   "cell_type": "markdown",
   "metadata": {},
   "source": [
    "In the cell bellow:\n",
    "* both of `homePlayers` and `awayPlayers` columns are exploded, which we get each value of this array.\n",
    "* Unfortunatelly, duplicates are created (e.g because of exploding, there is more rows for one player id and each row with this row associated)\n"
   ]
  },
  {
   "cell_type": "code",
   "execution_count": null,
   "metadata": {},
   "outputs": [],
   "source": [
    "base_columns = ['period','frameIdx','gameClock','wallClock','live','lastTouch','match_date']\n",
    "\n",
    "unified_players_df = (\n",
    "    match_date_df\n",
    "    .withColumn('home_players_exploded',F.explode('homePlayers')) \n",
    "    .withColumn('away_players_exploded',F.explode('awayPlayers'))\n",
    "    .select(\n",
    "        F.col('home_players_exploded.playerId').alias('homePlayer_playerId'),\n",
    "        F.col('home_players_exploded.speed').alias('homePlayer_speed'),\n",
    "        F.col('home_players_exploded.xyz').alias('homePlayer_3d_position'),\n",
    "        F.col('away_players_exploded.playerId').alias('awayPlayer_playerId'),\n",
    "        F.col('away_players_exploded.speed').alias('awayPlayer_speed'),\n",
    "        F.col('away_players_exploded.xyz').alias('awayPlayer_3d_position'),\n",
    "        *base_columns\n",
    "    )\n",
    "    .withColumn(\"home_player_3d_position_x\", F.col('homePlayer_3d_position').getItem(0))\n",
    "    .withColumn(\"home_player_3d_position_y\", F.col('homePlayer_3d_position').getItem(1))\n",
    "    .withColumn(\"home_player_3d_position_z\", F.col('homePlayer_3d_position').getItem(2))\n",
    ")"
   ]
  },
  {
   "cell_type": "markdown",
   "metadata": {},
   "source": [
    "Also, let's make a unified data for the ball data."
   ]
  },
  {
   "cell_type": "code",
   "execution_count": 17,
   "metadata": {},
   "outputs": [
    {
     "ename": "ConnectionRefusedError",
     "evalue": "[Errno 111] Connection refused",
     "output_type": "error",
     "traceback": [
      "\u001b[0;31m---------------------------------------------------------------------------\u001b[0m",
      "\u001b[0;31mConnectionRefusedError\u001b[0m                    Traceback (most recent call last)",
      "\u001b[1;32m/home/tomas/Personal_projects/Aston_Villa/task_1/load_save_unified_data.ipynb Cell 21'\u001b[0m in \u001b[0;36m<cell line: 2>\u001b[0;34m()\u001b[0m\n\u001b[1;32m      <a href='vscode-notebook-cell:/home/tomas/Personal_projects/Aston_Villa/task_1/load_save_unified_data.ipynb#ch0000040?line=0'>1</a>\u001b[0m unified_ball_df \u001b[39m=\u001b[39m (\n\u001b[1;32m      <a href='vscode-notebook-cell:/home/tomas/Personal_projects/Aston_Villa/task_1/load_save_unified_data.ipynb#ch0000040?line=1'>2</a>\u001b[0m     match_date_df\n\u001b[0;32m----> <a href='vscode-notebook-cell:/home/tomas/Personal_projects/Aston_Villa/task_1/load_save_unified_data.ipynb#ch0000040?line=2'>3</a>\u001b[0m     \u001b[39m.\u001b[39mwithColumn(\u001b[39m\"\u001b[39m\u001b[39mball_exploded\u001b[39m\u001b[39m\"\u001b[39m,F\u001b[39m.\u001b[39;49mexplode(\u001b[39m\"\u001b[39;49m\u001b[39mball\u001b[39;49m\u001b[39m\"\u001b[39;49m))\n\u001b[1;32m      <a href='vscode-notebook-cell:/home/tomas/Personal_projects/Aston_Villa/task_1/load_save_unified_data.ipynb#ch0000040?line=3'>4</a>\u001b[0m     \u001b[39m.\u001b[39mselect(\n\u001b[1;32m      <a href='vscode-notebook-cell:/home/tomas/Personal_projects/Aston_Villa/task_1/load_save_unified_data.ipynb#ch0000040?line=4'>5</a>\u001b[0m         F\u001b[39m.\u001b[39mcol(\u001b[39m\"\u001b[39m\u001b[39mball_exploded.xyz\u001b[39m\u001b[39m\"\u001b[39m)\u001b[39m.\u001b[39malias(\u001b[39m\"\u001b[39m\u001b[39mballPosition\u001b[39m\u001b[39m\"\u001b[39m),\n\u001b[1;32m      <a href='vscode-notebook-cell:/home/tomas/Personal_projects/Aston_Villa/task_1/load_save_unified_data.ipynb#ch0000040?line=5'>6</a>\u001b[0m         F\u001b[39m.\u001b[39mcol(\u001b[39m\"\u001b[39m\u001b[39mball_exploded.speed\u001b[39m\u001b[39m\"\u001b[39m)\u001b[39m.\u001b[39malias(\u001b[39m\"\u001b[39m\u001b[39mballSpeed\u001b[39m\u001b[39m\"\u001b[39m),\n\u001b[1;32m      <a href='vscode-notebook-cell:/home/tomas/Personal_projects/Aston_Villa/task_1/load_save_unified_data.ipynb#ch0000040?line=6'>7</a>\u001b[0m         \u001b[39m*\u001b[39mbase_columns\n\u001b[1;32m      <a href='vscode-notebook-cell:/home/tomas/Personal_projects/Aston_Villa/task_1/load_save_unified_data.ipynb#ch0000040?line=7'>8</a>\u001b[0m     )\n\u001b[1;32m      <a href='vscode-notebook-cell:/home/tomas/Personal_projects/Aston_Villa/task_1/load_save_unified_data.ipynb#ch0000040?line=8'>9</a>\u001b[0m )\n",
      "File \u001b[0;32m~/.local/lib/python3.8/site-packages/pyspark/sql/functions.py:3528\u001b[0m, in \u001b[0;36mexplode\u001b[0;34m(col)\u001b[0m\n\u001b[1;32m   <a href='file:///home/tomas/.local/lib/python3.8/site-packages/pyspark/sql/functions.py?line=3505'>3506</a>\u001b[0m \u001b[39m\"\"\"\u001b[39;00m\n\u001b[1;32m   <a href='file:///home/tomas/.local/lib/python3.8/site-packages/pyspark/sql/functions.py?line=3506'>3507</a>\u001b[0m \u001b[39mReturns a new row for each element in the given array or map.\u001b[39;00m\n\u001b[1;32m   <a href='file:///home/tomas/.local/lib/python3.8/site-packages/pyspark/sql/functions.py?line=3507'>3508</a>\u001b[0m \u001b[39mUses the default column name `col` for elements in the array and\u001b[39;00m\n\u001b[0;32m   (...)\u001b[0m\n\u001b[1;32m   <a href='file:///home/tomas/.local/lib/python3.8/site-packages/pyspark/sql/functions.py?line=3524'>3525</a>\u001b[0m \u001b[39m+---+-----+\u001b[39;00m\n\u001b[1;32m   <a href='file:///home/tomas/.local/lib/python3.8/site-packages/pyspark/sql/functions.py?line=3525'>3526</a>\u001b[0m \u001b[39m\"\"\"\u001b[39;00m\n\u001b[1;32m   <a href='file:///home/tomas/.local/lib/python3.8/site-packages/pyspark/sql/functions.py?line=3526'>3527</a>\u001b[0m sc \u001b[39m=\u001b[39m SparkContext\u001b[39m.\u001b[39m_active_spark_context\n\u001b[0;32m-> <a href='file:///home/tomas/.local/lib/python3.8/site-packages/pyspark/sql/functions.py?line=3527'>3528</a>\u001b[0m jc \u001b[39m=\u001b[39m sc\u001b[39m.\u001b[39;49m_jvm\u001b[39m.\u001b[39;49mfunctions\u001b[39m.\u001b[39mexplode(_to_java_column(col))\n\u001b[1;32m   <a href='file:///home/tomas/.local/lib/python3.8/site-packages/pyspark/sql/functions.py?line=3528'>3529</a>\u001b[0m \u001b[39mreturn\u001b[39;00m Column(jc)\n",
      "File \u001b[0;32m~/.local/lib/python3.8/site-packages/py4j/java_gateway.py:1697\u001b[0m, in \u001b[0;36mJVMView.__getattr__\u001b[0;34m(self, name)\u001b[0m\n\u001b[1;32m   <a href='file:///home/tomas/.local/lib/python3.8/site-packages/py4j/java_gateway.py?line=1693'>1694</a>\u001b[0m \u001b[39mif\u001b[39;00m name \u001b[39m==\u001b[39m UserHelpAutoCompletion\u001b[39m.\u001b[39mKEY:\n\u001b[1;32m   <a href='file:///home/tomas/.local/lib/python3.8/site-packages/py4j/java_gateway.py?line=1694'>1695</a>\u001b[0m     \u001b[39mreturn\u001b[39;00m UserHelpAutoCompletion()\n\u001b[0;32m-> <a href='file:///home/tomas/.local/lib/python3.8/site-packages/py4j/java_gateway.py?line=1696'>1697</a>\u001b[0m answer \u001b[39m=\u001b[39m \u001b[39mself\u001b[39;49m\u001b[39m.\u001b[39;49m_gateway_client\u001b[39m.\u001b[39;49msend_command(\n\u001b[1;32m   <a href='file:///home/tomas/.local/lib/python3.8/site-packages/py4j/java_gateway.py?line=1697'>1698</a>\u001b[0m     proto\u001b[39m.\u001b[39;49mREFLECTION_COMMAND_NAME \u001b[39m+\u001b[39;49m\n\u001b[1;32m   <a href='file:///home/tomas/.local/lib/python3.8/site-packages/py4j/java_gateway.py?line=1698'>1699</a>\u001b[0m     proto\u001b[39m.\u001b[39;49mREFL_GET_UNKNOWN_SUB_COMMAND_NAME \u001b[39m+\u001b[39;49m name \u001b[39m+\u001b[39;49m \u001b[39m\"\u001b[39;49m\u001b[39m\\n\u001b[39;49;00m\u001b[39m\"\u001b[39;49m \u001b[39m+\u001b[39;49m \u001b[39mself\u001b[39;49m\u001b[39m.\u001b[39;49m_id \u001b[39m+\u001b[39;49m\n\u001b[1;32m   <a href='file:///home/tomas/.local/lib/python3.8/site-packages/py4j/java_gateway.py?line=1699'>1700</a>\u001b[0m     \u001b[39m\"\u001b[39;49m\u001b[39m\\n\u001b[39;49;00m\u001b[39m\"\u001b[39;49m \u001b[39m+\u001b[39;49m proto\u001b[39m.\u001b[39;49mEND_COMMAND_PART)\n\u001b[1;32m   <a href='file:///home/tomas/.local/lib/python3.8/site-packages/py4j/java_gateway.py?line=1700'>1701</a>\u001b[0m \u001b[39mif\u001b[39;00m answer \u001b[39m==\u001b[39m proto\u001b[39m.\u001b[39mSUCCESS_PACKAGE:\n\u001b[1;32m   <a href='file:///home/tomas/.local/lib/python3.8/site-packages/py4j/java_gateway.py?line=1701'>1702</a>\u001b[0m     \u001b[39mreturn\u001b[39;00m JavaPackage(name, \u001b[39mself\u001b[39m\u001b[39m.\u001b[39m_gateway_client, jvm_id\u001b[39m=\u001b[39m\u001b[39mself\u001b[39m\u001b[39m.\u001b[39m_id)\n",
      "File \u001b[0;32m~/.local/lib/python3.8/site-packages/py4j/java_gateway.py:1036\u001b[0m, in \u001b[0;36mGatewayClient.send_command\u001b[0;34m(self, command, retry, binary)\u001b[0m\n\u001b[1;32m   <a href='file:///home/tomas/.local/lib/python3.8/site-packages/py4j/java_gateway.py?line=1014'>1015</a>\u001b[0m \u001b[39mdef\u001b[39;00m \u001b[39msend_command\u001b[39m(\u001b[39mself\u001b[39m, command, retry\u001b[39m=\u001b[39m\u001b[39mTrue\u001b[39;00m, binary\u001b[39m=\u001b[39m\u001b[39mFalse\u001b[39;00m):\n\u001b[1;32m   <a href='file:///home/tomas/.local/lib/python3.8/site-packages/py4j/java_gateway.py?line=1015'>1016</a>\u001b[0m     \u001b[39m\"\"\"Sends a command to the JVM. This method is not intended to be\u001b[39;00m\n\u001b[1;32m   <a href='file:///home/tomas/.local/lib/python3.8/site-packages/py4j/java_gateway.py?line=1016'>1017</a>\u001b[0m \u001b[39m       called directly by Py4J users. It is usually called by\u001b[39;00m\n\u001b[1;32m   <a href='file:///home/tomas/.local/lib/python3.8/site-packages/py4j/java_gateway.py?line=1017'>1018</a>\u001b[0m \u001b[39m       :class:`JavaMember` instances.\u001b[39;00m\n\u001b[0;32m   (...)\u001b[0m\n\u001b[1;32m   <a href='file:///home/tomas/.local/lib/python3.8/site-packages/py4j/java_gateway.py?line=1033'>1034</a>\u001b[0m \u001b[39m     if `binary` is `True`.\u001b[39;00m\n\u001b[1;32m   <a href='file:///home/tomas/.local/lib/python3.8/site-packages/py4j/java_gateway.py?line=1034'>1035</a>\u001b[0m \u001b[39m    \"\"\"\u001b[39;00m\n\u001b[0;32m-> <a href='file:///home/tomas/.local/lib/python3.8/site-packages/py4j/java_gateway.py?line=1035'>1036</a>\u001b[0m     connection \u001b[39m=\u001b[39m \u001b[39mself\u001b[39;49m\u001b[39m.\u001b[39;49m_get_connection()\n\u001b[1;32m   <a href='file:///home/tomas/.local/lib/python3.8/site-packages/py4j/java_gateway.py?line=1036'>1037</a>\u001b[0m     \u001b[39mtry\u001b[39;00m:\n\u001b[1;32m   <a href='file:///home/tomas/.local/lib/python3.8/site-packages/py4j/java_gateway.py?line=1037'>1038</a>\u001b[0m         response \u001b[39m=\u001b[39m connection\u001b[39m.\u001b[39msend_command(command)\n",
      "File \u001b[0;32m~/.local/lib/python3.8/site-packages/py4j/clientserver.py:281\u001b[0m, in \u001b[0;36mJavaClient._get_connection\u001b[0;34m(self)\u001b[0m\n\u001b[1;32m    <a href='file:///home/tomas/.local/lib/python3.8/site-packages/py4j/clientserver.py?line=277'>278</a>\u001b[0m     \u001b[39mpass\u001b[39;00m\n\u001b[1;32m    <a href='file:///home/tomas/.local/lib/python3.8/site-packages/py4j/clientserver.py?line=279'>280</a>\u001b[0m \u001b[39mif\u001b[39;00m connection \u001b[39mis\u001b[39;00m \u001b[39mNone\u001b[39;00m \u001b[39mor\u001b[39;00m connection\u001b[39m.\u001b[39msocket \u001b[39mis\u001b[39;00m \u001b[39mNone\u001b[39;00m:\n\u001b[0;32m--> <a href='file:///home/tomas/.local/lib/python3.8/site-packages/py4j/clientserver.py?line=280'>281</a>\u001b[0m     connection \u001b[39m=\u001b[39m \u001b[39mself\u001b[39;49m\u001b[39m.\u001b[39;49m_create_new_connection()\n\u001b[1;32m    <a href='file:///home/tomas/.local/lib/python3.8/site-packages/py4j/clientserver.py?line=281'>282</a>\u001b[0m \u001b[39mreturn\u001b[39;00m connection\n",
      "File \u001b[0;32m~/.local/lib/python3.8/site-packages/py4j/clientserver.py:288\u001b[0m, in \u001b[0;36mJavaClient._create_new_connection\u001b[0;34m(self)\u001b[0m\n\u001b[1;32m    <a href='file:///home/tomas/.local/lib/python3.8/site-packages/py4j/clientserver.py?line=283'>284</a>\u001b[0m \u001b[39mdef\u001b[39;00m \u001b[39m_create_new_connection\u001b[39m(\u001b[39mself\u001b[39m):\n\u001b[1;32m    <a href='file:///home/tomas/.local/lib/python3.8/site-packages/py4j/clientserver.py?line=284'>285</a>\u001b[0m     connection \u001b[39m=\u001b[39m ClientServerConnection(\n\u001b[1;32m    <a href='file:///home/tomas/.local/lib/python3.8/site-packages/py4j/clientserver.py?line=285'>286</a>\u001b[0m         \u001b[39mself\u001b[39m\u001b[39m.\u001b[39mjava_parameters, \u001b[39mself\u001b[39m\u001b[39m.\u001b[39mpython_parameters,\n\u001b[1;32m    <a href='file:///home/tomas/.local/lib/python3.8/site-packages/py4j/clientserver.py?line=286'>287</a>\u001b[0m         \u001b[39mself\u001b[39m\u001b[39m.\u001b[39mgateway_property, \u001b[39mself\u001b[39m)\n\u001b[0;32m--> <a href='file:///home/tomas/.local/lib/python3.8/site-packages/py4j/clientserver.py?line=287'>288</a>\u001b[0m     connection\u001b[39m.\u001b[39;49mconnect_to_java_server()\n\u001b[1;32m    <a href='file:///home/tomas/.local/lib/python3.8/site-packages/py4j/clientserver.py?line=288'>289</a>\u001b[0m     \u001b[39mself\u001b[39m\u001b[39m.\u001b[39mset_thread_connection(connection)\n\u001b[1;32m    <a href='file:///home/tomas/.local/lib/python3.8/site-packages/py4j/clientserver.py?line=289'>290</a>\u001b[0m     \u001b[39mreturn\u001b[39;00m connection\n",
      "File \u001b[0;32m~/.local/lib/python3.8/site-packages/py4j/clientserver.py:402\u001b[0m, in \u001b[0;36mClientServerConnection.connect_to_java_server\u001b[0;34m(self)\u001b[0m\n\u001b[1;32m    <a href='file:///home/tomas/.local/lib/python3.8/site-packages/py4j/clientserver.py?line=398'>399</a>\u001b[0m \u001b[39mif\u001b[39;00m \u001b[39mself\u001b[39m\u001b[39m.\u001b[39mssl_context:\n\u001b[1;32m    <a href='file:///home/tomas/.local/lib/python3.8/site-packages/py4j/clientserver.py?line=399'>400</a>\u001b[0m     \u001b[39mself\u001b[39m\u001b[39m.\u001b[39msocket \u001b[39m=\u001b[39m \u001b[39mself\u001b[39m\u001b[39m.\u001b[39mssl_context\u001b[39m.\u001b[39mwrap_socket(\n\u001b[1;32m    <a href='file:///home/tomas/.local/lib/python3.8/site-packages/py4j/clientserver.py?line=400'>401</a>\u001b[0m         \u001b[39mself\u001b[39m\u001b[39m.\u001b[39msocket, server_hostname\u001b[39m=\u001b[39m\u001b[39mself\u001b[39m\u001b[39m.\u001b[39mjava_address)\n\u001b[0;32m--> <a href='file:///home/tomas/.local/lib/python3.8/site-packages/py4j/clientserver.py?line=401'>402</a>\u001b[0m \u001b[39mself\u001b[39;49m\u001b[39m.\u001b[39;49msocket\u001b[39m.\u001b[39;49mconnect((\u001b[39mself\u001b[39;49m\u001b[39m.\u001b[39;49mjava_address, \u001b[39mself\u001b[39;49m\u001b[39m.\u001b[39;49mjava_port))\n\u001b[1;32m    <a href='file:///home/tomas/.local/lib/python3.8/site-packages/py4j/clientserver.py?line=402'>403</a>\u001b[0m \u001b[39mself\u001b[39m\u001b[39m.\u001b[39mstream \u001b[39m=\u001b[39m \u001b[39mself\u001b[39m\u001b[39m.\u001b[39msocket\u001b[39m.\u001b[39mmakefile(\u001b[39m\"\u001b[39m\u001b[39mrb\u001b[39m\u001b[39m\"\u001b[39m)\n\u001b[1;32m    <a href='file:///home/tomas/.local/lib/python3.8/site-packages/py4j/clientserver.py?line=403'>404</a>\u001b[0m \u001b[39mself\u001b[39m\u001b[39m.\u001b[39mis_connected \u001b[39m=\u001b[39m \u001b[39mTrue\u001b[39;00m\n",
      "\u001b[0;31mConnectionRefusedError\u001b[0m: [Errno 111] Connection refused"
     ]
    }
   ],
   "source": [
    "unified_ball_df = (\n",
    "    match_date_df\n",
    "    .withColumn(\"ball_exploded\",F.explode(\"ball\"))\n",
    "    .select(\n",
    "        F.col(\"ball_exploded.xyz\").alias(\"ballPosition\"),\n",
    "        F.col(\"ball_exploded.speed\").alias(\"ballSpeed\"),\n",
    "        *base_columns\n",
    "    )\n",
    ")"
   ]
  },
  {
   "cell_type": "code",
   "execution_count": 15,
   "metadata": {},
   "outputs": [
    {
     "name": "stderr",
     "output_type": "stream",
     "text": [
      "[Stage 9:>                                                        (0 + 16) / 16]\r"
     ]
    },
    {
     "name": "stdout",
     "output_type": "stream",
     "text": [
      "[76.622s][warning][gc,alloc] Executor task launch worker for task 15.0 in stage 9.0 (TID 67): Retried waiting for GCLocker too often allocating 131074 words\n"
     ]
    },
    {
     "name": "stderr",
     "output_type": "stream",
     "text": [
      "22/07/18 15:27:37 ERROR Executor: Exception in task 15.0 in stage 9.0 (TID 67)\n",
      "java.lang.OutOfMemoryError: Java heap space\n",
      "\tat java.base/java.nio.HeapByteBuffer.<init>(HeapByteBuffer.java:61)\n",
      "\tat java.base/java.nio.ByteBuffer.allocate(ByteBuffer.java:348)\n",
      "\tat org.apache.spark.io.ReadAheadInputStream.<init>(ReadAheadInputStream.java:106)\n",
      "\tat org.apache.spark.util.collection.unsafe.sort.UnsafeSorterSpillReader.<init>(UnsafeSorterSpillReader.java:74)\n",
      "\tat org.apache.spark.util.collection.unsafe.sort.UnsafeSorterSpillWriter.getReader(UnsafeSorterSpillWriter.java:159)\n",
      "\tat org.apache.spark.util.collection.unsafe.sort.UnsafeExternalSorter.getSortedIterator(UnsafeExternalSorter.java:523)\n",
      "\tat org.apache.spark.sql.execution.UnsafeKVExternalSorter.sortedIterator(UnsafeKVExternalSorter.java:206)\n",
      "\tat org.apache.spark.sql.execution.aggregate.TungstenAggregationIterator.switchToSortBasedAggregation(TungstenAggregationIterator.scala:264)\n",
      "\tat org.apache.spark.sql.execution.aggregate.TungstenAggregationIterator.processInputs(TungstenAggregationIterator.scala:224)\n",
      "\tat org.apache.spark.sql.execution.aggregate.TungstenAggregationIterator.<init>(TungstenAggregationIterator.scala:364)\n",
      "\tat org.apache.spark.sql.execution.aggregate.HashAggregateExec.$anonfun$doExecute$1(HashAggregateExec.scala:120)\n",
      "\tat org.apache.spark.sql.execution.aggregate.HashAggregateExec.$anonfun$doExecute$1$adapted(HashAggregateExec.scala:94)\n",
      "\tat org.apache.spark.sql.execution.aggregate.HashAggregateExec$$Lambda$4465/0x00000008418fb040.apply(Unknown Source)\n",
      "\tat org.apache.spark.rdd.RDD.$anonfun$mapPartitionsWithIndex$2(RDD.scala:915)\n",
      "\tat org.apache.spark.rdd.RDD.$anonfun$mapPartitionsWithIndex$2$adapted(RDD.scala:915)\n",
      "\tat org.apache.spark.rdd.RDD$$Lambda$3683/0x000000084152ac40.apply(Unknown Source)\n",
      "\tat org.apache.spark.rdd.MapPartitionsRDD.compute(MapPartitionsRDD.scala:52)\n",
      "\tat org.apache.spark.rdd.RDD.computeOrReadCheckpoint(RDD.scala:373)\n",
      "\tat org.apache.spark.rdd.RDD.iterator(RDD.scala:337)\n",
      "\tat org.apache.spark.rdd.MapPartitionsRDD.compute(MapPartitionsRDD.scala:52)\n",
      "\tat org.apache.spark.rdd.RDD.computeOrReadCheckpoint(RDD.scala:373)\n",
      "\tat org.apache.spark.rdd.RDD.iterator(RDD.scala:337)\n",
      "\tat org.apache.spark.shuffle.ShuffleWriteProcessor.write(ShuffleWriteProcessor.scala:59)\n",
      "\tat org.apache.spark.scheduler.ShuffleMapTask.runTask(ShuffleMapTask.scala:99)\n",
      "\tat org.apache.spark.scheduler.ShuffleMapTask.runTask(ShuffleMapTask.scala:52)\n",
      "\tat org.apache.spark.scheduler.Task.run(Task.scala:131)\n",
      "\tat org.apache.spark.executor.Executor$TaskRunner.$anonfun$run$3(Executor.scala:506)\n",
      "\tat org.apache.spark.executor.Executor$TaskRunner$$Lambda$2454/0x0000000841026c40.apply(Unknown Source)\n",
      "\tat org.apache.spark.util.Utils$.tryWithSafeFinally(Utils.scala:1462)\n",
      "\tat org.apache.spark.executor.Executor$TaskRunner.run(Executor.scala:509)\n",
      "\tat java.base/java.util.concurrent.ThreadPoolExecutor.runWorker(ThreadPoolExecutor.java:1128)\n",
      "\tat java.base/java.util.concurrent.ThreadPoolExecutor$Worker.run(ThreadPoolExecutor.java:628)\n",
      "22/07/18 15:27:37 ERROR SparkUncaughtExceptionHandler: Uncaught exception in thread Thread[Executor task launch worker for task 15.0 in stage 9.0 (TID 67),5,main]\n",
      "java.lang.OutOfMemoryError: Java heap space\n",
      "\tat java.base/java.nio.HeapByteBuffer.<init>(HeapByteBuffer.java:61)\n",
      "\tat java.base/java.nio.ByteBuffer.allocate(ByteBuffer.java:348)\n",
      "\tat org.apache.spark.io.ReadAheadInputStream.<init>(ReadAheadInputStream.java:106)\n",
      "\tat org.apache.spark.util.collection.unsafe.sort.UnsafeSorterSpillReader.<init>(UnsafeSorterSpillReader.java:74)\n",
      "\tat org.apache.spark.util.collection.unsafe.sort.UnsafeSorterSpillWriter.getReader(UnsafeSorterSpillWriter.java:159)\n",
      "\tat org.apache.spark.util.collection.unsafe.sort.UnsafeExternalSorter.getSortedIterator(UnsafeExternalSorter.java:523)\n",
      "\tat org.apache.spark.sql.execution.UnsafeKVExternalSorter.sortedIterator(UnsafeKVExternalSorter.java:206)\n",
      "\tat org.apache.spark.sql.execution.aggregate.TungstenAggregationIterator.switchToSortBasedAggregation(TungstenAggregationIterator.scala:264)\n",
      "\tat org.apache.spark.sql.execution.aggregate.TungstenAggregationIterator.processInputs(TungstenAggregationIterator.scala:224)\n",
      "\tat org.apache.spark.sql.execution.aggregate.TungstenAggregationIterator.<init>(TungstenAggregationIterator.scala:364)\n",
      "\tat org.apache.spark.sql.execution.aggregate.HashAggregateExec.$anonfun$doExecute$1(HashAggregateExec.scala:120)\n",
      "\tat org.apache.spark.sql.execution.aggregate.HashAggregateExec.$anonfun$doExecute$1$adapted(HashAggregateExec.scala:94)\n",
      "\tat org.apache.spark.sql.execution.aggregate.HashAggregateExec$$Lambda$4465/0x00000008418fb040.apply(Unknown Source)\n",
      "\tat org.apache.spark.rdd.RDD.$anonfun$mapPartitionsWithIndex$2(RDD.scala:915)\n",
      "\tat org.apache.spark.rdd.RDD.$anonfun$mapPartitionsWithIndex$2$adapted(RDD.scala:915)\n",
      "\tat org.apache.spark.rdd.RDD$$Lambda$3683/0x000000084152ac40.apply(Unknown Source)\n",
      "\tat org.apache.spark.rdd.MapPartitionsRDD.compute(MapPartitionsRDD.scala:52)\n",
      "\tat org.apache.spark.rdd.RDD.computeOrReadCheckpoint(RDD.scala:373)\n",
      "\tat org.apache.spark.rdd.RDD.iterator(RDD.scala:337)\n",
      "\tat org.apache.spark.rdd.MapPartitionsRDD.compute(MapPartitionsRDD.scala:52)\n",
      "\tat org.apache.spark.rdd.RDD.computeOrReadCheckpoint(RDD.scala:373)\n",
      "\tat org.apache.spark.rdd.RDD.iterator(RDD.scala:337)\n",
      "\tat org.apache.spark.shuffle.ShuffleWriteProcessor.write(ShuffleWriteProcessor.scala:59)\n",
      "\tat org.apache.spark.scheduler.ShuffleMapTask.runTask(ShuffleMapTask.scala:99)\n",
      "\tat org.apache.spark.scheduler.ShuffleMapTask.runTask(ShuffleMapTask.scala:52)\n",
      "\tat org.apache.spark.scheduler.Task.run(Task.scala:131)\n",
      "\tat org.apache.spark.executor.Executor$TaskRunner.$anonfun$run$3(Executor.scala:506)\n",
      "\tat org.apache.spark.executor.Executor$TaskRunner$$Lambda$2454/0x0000000841026c40.apply(Unknown Source)\n",
      "\tat org.apache.spark.util.Utils$.tryWithSafeFinally(Utils.scala:1462)\n",
      "\tat org.apache.spark.executor.Executor$TaskRunner.run(Executor.scala:509)\n",
      "\tat java.base/java.util.concurrent.ThreadPoolExecutor.runWorker(ThreadPoolExecutor.java:1128)\n",
      "\tat java.base/java.util.concurrent.ThreadPoolExecutor$Worker.run(ThreadPoolExecutor.java:628)\n",
      "22/07/18 15:27:37 WARN TaskSetManager: Lost task 15.0 in stage 9.0 (TID 67) (192.168.0.53 executor driver): java.lang.OutOfMemoryError: Java heap space\n",
      "\tat java.base/java.nio.HeapByteBuffer.<init>(HeapByteBuffer.java:61)\n",
      "\tat java.base/java.nio.ByteBuffer.allocate(ByteBuffer.java:348)\n",
      "\tat org.apache.spark.io.ReadAheadInputStream.<init>(ReadAheadInputStream.java:106)\n",
      "\tat org.apache.spark.util.collection.unsafe.sort.UnsafeSorterSpillReader.<init>(UnsafeSorterSpillReader.java:74)\n",
      "\tat org.apache.spark.util.collection.unsafe.sort.UnsafeSorterSpillWriter.getReader(UnsafeSorterSpillWriter.java:159)\n",
      "\tat org.apache.spark.util.collection.unsafe.sort.UnsafeExternalSorter.getSortedIterator(UnsafeExternalSorter.java:523)\n",
      "\tat org.apache.spark.sql.execution.UnsafeKVExternalSorter.sortedIterator(UnsafeKVExternalSorter.java:206)\n",
      "\tat org.apache.spark.sql.execution.aggregate.TungstenAggregationIterator.switchToSortBasedAggregation(TungstenAggregationIterator.scala:264)\n",
      "\tat org.apache.spark.sql.execution.aggregate.TungstenAggregationIterator.processInputs(TungstenAggregationIterator.scala:224)\n",
      "\tat org.apache.spark.sql.execution.aggregate.TungstenAggregationIterator.<init>(TungstenAggregationIterator.scala:364)\n",
      "\tat org.apache.spark.sql.execution.aggregate.HashAggregateExec.$anonfun$doExecute$1(HashAggregateExec.scala:120)\n",
      "\tat org.apache.spark.sql.execution.aggregate.HashAggregateExec.$anonfun$doExecute$1$adapted(HashAggregateExec.scala:94)\n",
      "\tat org.apache.spark.sql.execution.aggregate.HashAggregateExec$$Lambda$4465/0x00000008418fb040.apply(Unknown Source)\n",
      "\tat org.apache.spark.rdd.RDD.$anonfun$mapPartitionsWithIndex$2(RDD.scala:915)\n",
      "\tat org.apache.spark.rdd.RDD.$anonfun$mapPartitionsWithIndex$2$adapted(RDD.scala:915)\n",
      "\tat org.apache.spark.rdd.RDD$$Lambda$3683/0x000000084152ac40.apply(Unknown Source)\n",
      "\tat org.apache.spark.rdd.MapPartitionsRDD.compute(MapPartitionsRDD.scala:52)\n",
      "\tat org.apache.spark.rdd.RDD.computeOrReadCheckpoint(RDD.scala:373)\n",
      "\tat org.apache.spark.rdd.RDD.iterator(RDD.scala:337)\n",
      "\tat org.apache.spark.rdd.MapPartitionsRDD.compute(MapPartitionsRDD.scala:52)\n",
      "\tat org.apache.spark.rdd.RDD.computeOrReadCheckpoint(RDD.scala:373)\n",
      "\tat org.apache.spark.rdd.RDD.iterator(RDD.scala:337)\n",
      "\tat org.apache.spark.shuffle.ShuffleWriteProcessor.write(ShuffleWriteProcessor.scala:59)\n",
      "\tat org.apache.spark.scheduler.ShuffleMapTask.runTask(ShuffleMapTask.scala:99)\n",
      "\tat org.apache.spark.scheduler.ShuffleMapTask.runTask(ShuffleMapTask.scala:52)\n",
      "\tat org.apache.spark.scheduler.Task.run(Task.scala:131)\n",
      "\tat org.apache.spark.executor.Executor$TaskRunner.$anonfun$run$3(Executor.scala:506)\n",
      "\tat org.apache.spark.executor.Executor$TaskRunner$$Lambda$2454/0x0000000841026c40.apply(Unknown Source)\n",
      "\tat org.apache.spark.util.Utils$.tryWithSafeFinally(Utils.scala:1462)\n",
      "\tat org.apache.spark.executor.Executor$TaskRunner.run(Executor.scala:509)\n",
      "\tat java.base/java.util.concurrent.ThreadPoolExecutor.runWorker(ThreadPoolExecutor.java:1128)\n",
      "\tat java.base/java.util.concurrent.ThreadPoolExecutor$Worker.run(ThreadPoolExecutor.java:628)\n",
      "\n",
      "22/07/18 15:27:37 ERROR TaskSetManager: Task 15 in stage 9.0 failed 1 times; aborting job\n",
      "22/07/18 15:27:37 WARN TaskSetManager: Lost task 8.0 in stage 9.0 (TID 60) (192.168.0.53 executor driver): TaskKilled (Stage cancelled)\n",
      "22/07/18 15:27:37 WARN TaskSetManager: Lost task 13.0 in stage 9.0 (TID 65) (192.168.0.53 executor driver): TaskKilled (Stage cancelled)\n",
      "22/07/18 15:27:37 WARN TaskSetManager: Lost task 4.0 in stage 9.0 (TID 56) (192.168.0.53 executor driver): TaskKilled (Stage cancelled)\n",
      "22/07/18 15:27:37 WARN TaskSetManager: Lost task 1.0 in stage 9.0 (TID 53) (192.168.0.53 executor driver): TaskKilled (Stage cancelled)\n",
      "22/07/18 15:27:37 WARN TaskSetManager: Lost task 9.0 in stage 9.0 (TID 61) (192.168.0.53 executor driver): TaskKilled (Stage cancelled)\n",
      "22/07/18 15:27:37 WARN TaskSetManager: Lost task 7.0 in stage 9.0 (TID 59) (192.168.0.53 executor driver): TaskKilled (Stage cancelled)\n",
      "22/07/18 15:27:37 WARN TaskSetManager: Lost task 0.0 in stage 9.0 (TID 52) (192.168.0.53 executor driver): TaskKilled (Stage cancelled)\n",
      "22/07/18 15:27:37 WARN TaskSetManager: Lost task 10.0 in stage 9.0 (TID 62) (192.168.0.53 executor driver): TaskKilled (Stage cancelled)\n",
      "22/07/18 15:27:37 WARN TaskSetManager: Lost task 6.0 in stage 9.0 (TID 58) (192.168.0.53 executor driver): TaskKilled (Stage cancelled)\n",
      "22/07/18 15:27:37 WARN TaskSetManager: Lost task 5.0 in stage 9.0 (TID 57) (192.168.0.53 executor driver): TaskKilled (Stage cancelled)\n",
      "ERROR:root:Exception while sending command.\n",
      "Traceback (most recent call last):\n",
      "  File \"/home/tomas/.local/lib/python3.8/site-packages/IPython/core/interactiveshell.py\", line 3398, in run_code\n",
      "    exec(code_obj, self.user_global_ns, self.user_ns)\n",
      "  File \"/tmp/ipykernel_860537/3079348402.py\", line 1, in <cell line: 1>\n",
      "    unified_df.dropDuplicates().count()\n",
      "  File \"/home/tomas/.local/lib/python3.8/site-packages/pyspark/sql/dataframe.py\", line 680, in count\n",
      "    return int(self._jdf.count())\n",
      "  File \"/home/tomas/.local/lib/python3.8/site-packages/py4j/java_gateway.py\", line 1309, in __call__\n",
      "    return_value = get_return_value(\n",
      "  File \"/home/tomas/.local/lib/python3.8/site-packages/pyspark/sql/utils.py\", line 111, in deco\n",
      "    return f(*a, **kw)\n",
      "  File \"/home/tomas/.local/lib/python3.8/site-packages/py4j/protocol.py\", line 326, in get_return_value\n",
      "    raise Py4JJavaError(\n",
      "py4j.protocol.Py4JJavaError: <unprintable Py4JJavaError object>\n",
      "\n",
      "During handling of the above exception, another exception occurred:\n",
      "\n",
      "Traceback (most recent call last):\n",
      "  File \"/home/tomas/.local/lib/python3.8/site-packages/py4j/clientserver.py\", line 480, in send_command\n",
      "    raise Py4JNetworkError(\"Answer from Java side is empty\")\n",
      "py4j.protocol.Py4JNetworkError: Answer from Java side is empty\n",
      "\n",
      "During handling of the above exception, another exception occurred:\n",
      "\n",
      "Traceback (most recent call last):\n",
      "  File \"/home/tomas/.local/lib/python3.8/site-packages/py4j/java_gateway.py\", line 1038, in send_command\n",
      "    response = connection.send_command(command)\n",
      "  File \"/home/tomas/.local/lib/python3.8/site-packages/py4j/clientserver.py\", line 503, in send_command\n",
      "    raise Py4JNetworkError(\n",
      "py4j.protocol.Py4JNetworkError: Error while sending or receiving\n",
      "ERROR:root:Exception while sending command.\n",
      "Traceback (most recent call last):\n",
      "  File \"/home/tomas/.local/lib/python3.8/site-packages/py4j/clientserver.py\", line 480, in send_command\n",
      "    raise Py4JNetworkError(\"Answer from Java side is empty\")\n",
      "py4j.protocol.Py4JNetworkError: Answer from Java side is empty\n",
      "\n",
      "During handling of the above exception, another exception occurred:\n",
      "\n",
      "Traceback (most recent call last):\n",
      "  File \"/home/tomas/.local/lib/python3.8/site-packages/py4j/java_gateway.py\", line 1038, in send_command\n",
      "    response = connection.send_command(command)\n",
      "  File \"/home/tomas/.local/lib/python3.8/site-packages/py4j/clientserver.py\", line 503, in send_command\n",
      "    raise Py4JNetworkError(\n",
      "py4j.protocol.Py4JNetworkError: Error while sending or receiving\n"
     ]
    },
    {
     "ename": "ConnectionRefusedError",
     "evalue": "[Errno 111] Connection refused",
     "output_type": "error",
     "traceback": [
      "\u001b[0;31m---------------------------------------------------------------------------\u001b[0m",
      "\u001b[0;31mPy4JJavaError\u001b[0m                             Traceback (most recent call last)",
      "    \u001b[0;31m[... skipping hidden 1 frame]\u001b[0m\n",
      "\u001b[1;32m/home/tomas/Personal_projects/Aston_Villa/task_1/load_save_unified_data.ipynb Cell 21'\u001b[0m in \u001b[0;36m<cell line: 1>\u001b[0;34m()\u001b[0m\n\u001b[0;32m----> <a href='vscode-notebook-cell:/home/tomas/Personal_projects/Aston_Villa/task_1/load_save_unified_data.ipynb#ch0000039?line=0'>1</a>\u001b[0m unified_df\u001b[39m.\u001b[39;49mdropDuplicates()\u001b[39m.\u001b[39;49mcount()\n",
      "File \u001b[0;32m~/.local/lib/python3.8/site-packages/pyspark/sql/dataframe.py:680\u001b[0m, in \u001b[0;36mDataFrame.count\u001b[0;34m(self)\u001b[0m\n\u001b[1;32m    <a href='file:///home/tomas/.local/lib/python3.8/site-packages/pyspark/sql/dataframe.py?line=670'>671</a>\u001b[0m \u001b[39m\"\"\"Returns the number of rows in this :class:`DataFrame`.\u001b[39;00m\n\u001b[1;32m    <a href='file:///home/tomas/.local/lib/python3.8/site-packages/pyspark/sql/dataframe.py?line=671'>672</a>\u001b[0m \n\u001b[1;32m    <a href='file:///home/tomas/.local/lib/python3.8/site-packages/pyspark/sql/dataframe.py?line=672'>673</a>\u001b[0m \u001b[39m.. versionadded:: 1.3.0\u001b[39;00m\n\u001b[0;32m   (...)\u001b[0m\n\u001b[1;32m    <a href='file:///home/tomas/.local/lib/python3.8/site-packages/pyspark/sql/dataframe.py?line=677'>678</a>\u001b[0m \u001b[39m2\u001b[39;00m\n\u001b[1;32m    <a href='file:///home/tomas/.local/lib/python3.8/site-packages/pyspark/sql/dataframe.py?line=678'>679</a>\u001b[0m \u001b[39m\"\"\"\u001b[39;00m\n\u001b[0;32m--> <a href='file:///home/tomas/.local/lib/python3.8/site-packages/pyspark/sql/dataframe.py?line=679'>680</a>\u001b[0m \u001b[39mreturn\u001b[39;00m \u001b[39mint\u001b[39m(\u001b[39mself\u001b[39;49m\u001b[39m.\u001b[39;49m_jdf\u001b[39m.\u001b[39;49mcount())\n",
      "File \u001b[0;32m~/.local/lib/python3.8/site-packages/py4j/java_gateway.py:1309\u001b[0m, in \u001b[0;36mJavaMember.__call__\u001b[0;34m(self, *args)\u001b[0m\n\u001b[1;32m   <a href='file:///home/tomas/.local/lib/python3.8/site-packages/py4j/java_gateway.py?line=1307'>1308</a>\u001b[0m answer \u001b[39m=\u001b[39m \u001b[39mself\u001b[39m\u001b[39m.\u001b[39mgateway_client\u001b[39m.\u001b[39msend_command(command)\n\u001b[0;32m-> <a href='file:///home/tomas/.local/lib/python3.8/site-packages/py4j/java_gateway.py?line=1308'>1309</a>\u001b[0m return_value \u001b[39m=\u001b[39m get_return_value(\n\u001b[1;32m   <a href='file:///home/tomas/.local/lib/python3.8/site-packages/py4j/java_gateway.py?line=1309'>1310</a>\u001b[0m     answer, \u001b[39mself\u001b[39;49m\u001b[39m.\u001b[39;49mgateway_client, \u001b[39mself\u001b[39;49m\u001b[39m.\u001b[39;49mtarget_id, \u001b[39mself\u001b[39;49m\u001b[39m.\u001b[39;49mname)\n\u001b[1;32m   <a href='file:///home/tomas/.local/lib/python3.8/site-packages/py4j/java_gateway.py?line=1311'>1312</a>\u001b[0m \u001b[39mfor\u001b[39;00m temp_arg \u001b[39min\u001b[39;00m temp_args:\n",
      "File \u001b[0;32m~/.local/lib/python3.8/site-packages/pyspark/sql/utils.py:111\u001b[0m, in \u001b[0;36mcapture_sql_exception.<locals>.deco\u001b[0;34m(*a, **kw)\u001b[0m\n\u001b[1;32m    <a href='file:///home/tomas/.local/lib/python3.8/site-packages/pyspark/sql/utils.py?line=109'>110</a>\u001b[0m \u001b[39mtry\u001b[39;00m:\n\u001b[0;32m--> <a href='file:///home/tomas/.local/lib/python3.8/site-packages/pyspark/sql/utils.py?line=110'>111</a>\u001b[0m     \u001b[39mreturn\u001b[39;00m f(\u001b[39m*\u001b[39;49ma, \u001b[39m*\u001b[39;49m\u001b[39m*\u001b[39;49mkw)\n\u001b[1;32m    <a href='file:///home/tomas/.local/lib/python3.8/site-packages/pyspark/sql/utils.py?line=111'>112</a>\u001b[0m \u001b[39mexcept\u001b[39;00m py4j\u001b[39m.\u001b[39mprotocol\u001b[39m.\u001b[39mPy4JJavaError \u001b[39mas\u001b[39;00m e:\n",
      "File \u001b[0;32m~/.local/lib/python3.8/site-packages/py4j/protocol.py:326\u001b[0m, in \u001b[0;36mget_return_value\u001b[0;34m(answer, gateway_client, target_id, name)\u001b[0m\n\u001b[1;32m    <a href='file:///home/tomas/.local/lib/python3.8/site-packages/py4j/protocol.py?line=324'>325</a>\u001b[0m \u001b[39mif\u001b[39;00m answer[\u001b[39m1\u001b[39m] \u001b[39m==\u001b[39m REFERENCE_TYPE:\n\u001b[0;32m--> <a href='file:///home/tomas/.local/lib/python3.8/site-packages/py4j/protocol.py?line=325'>326</a>\u001b[0m     \u001b[39mraise\u001b[39;00m Py4JJavaError(\n\u001b[1;32m    <a href='file:///home/tomas/.local/lib/python3.8/site-packages/py4j/protocol.py?line=326'>327</a>\u001b[0m         \u001b[39m\"\u001b[39m\u001b[39mAn error occurred while calling \u001b[39m\u001b[39m{0}\u001b[39;00m\u001b[39m{1}\u001b[39;00m\u001b[39m{2}\u001b[39;00m\u001b[39m.\u001b[39m\u001b[39m\\n\u001b[39;00m\u001b[39m\"\u001b[39m\u001b[39m.\u001b[39m\n\u001b[1;32m    <a href='file:///home/tomas/.local/lib/python3.8/site-packages/py4j/protocol.py?line=327'>328</a>\u001b[0m         \u001b[39mformat\u001b[39m(target_id, \u001b[39m\"\u001b[39m\u001b[39m.\u001b[39m\u001b[39m\"\u001b[39m, name), value)\n\u001b[1;32m    <a href='file:///home/tomas/.local/lib/python3.8/site-packages/py4j/protocol.py?line=328'>329</a>\u001b[0m \u001b[39melse\u001b[39;00m:\n",
      "\u001b[0;31m<class 'str'>\u001b[0m: (<class 'ConnectionRefusedError'>, ConnectionRefusedError(111, 'Connection refused'))",
      "\nDuring handling of the above exception, another exception occurred:\n",
      "\u001b[0;31mConnectionRefusedError\u001b[0m                    Traceback (most recent call last)",
      "    \u001b[0;31m[... skipping hidden 1 frame]\u001b[0m\n",
      "File \u001b[0;32m~/.local/lib/python3.8/site-packages/IPython/core/interactiveshell.py:2004\u001b[0m, in \u001b[0;36mInteractiveShell.showtraceback\u001b[0;34m(self, exc_tuple, filename, tb_offset, exception_only, running_compiled_code)\u001b[0m\n\u001b[1;32m   <a href='file:///home/tomas/.local/lib/python3.8/site-packages/IPython/core/interactiveshell.py?line=2000'>2001</a>\u001b[0m     traceback\u001b[39m.\u001b[39mprint_exc()\n\u001b[1;32m   <a href='file:///home/tomas/.local/lib/python3.8/site-packages/IPython/core/interactiveshell.py?line=2001'>2002</a>\u001b[0m     \u001b[39mreturn\u001b[39;00m \u001b[39mNone\u001b[39;00m\n\u001b[0;32m-> <a href='file:///home/tomas/.local/lib/python3.8/site-packages/IPython/core/interactiveshell.py?line=2003'>2004</a>\u001b[0m \u001b[39mself\u001b[39;49m\u001b[39m.\u001b[39;49m_showtraceback(etype, value, stb)\n\u001b[1;32m   <a href='file:///home/tomas/.local/lib/python3.8/site-packages/IPython/core/interactiveshell.py?line=2004'>2005</a>\u001b[0m \u001b[39mif\u001b[39;00m \u001b[39mself\u001b[39m\u001b[39m.\u001b[39mcall_pdb:\n\u001b[1;32m   <a href='file:///home/tomas/.local/lib/python3.8/site-packages/IPython/core/interactiveshell.py?line=2005'>2006</a>\u001b[0m     \u001b[39m# drop into debugger\u001b[39;00m\n\u001b[1;32m   <a href='file:///home/tomas/.local/lib/python3.8/site-packages/IPython/core/interactiveshell.py?line=2006'>2007</a>\u001b[0m     \u001b[39mself\u001b[39m\u001b[39m.\u001b[39mdebugger(force\u001b[39m=\u001b[39m\u001b[39mTrue\u001b[39;00m)\n",
      "File \u001b[0;32m~/.local/lib/python3.8/site-packages/ipykernel/zmqshell.py:538\u001b[0m, in \u001b[0;36mZMQInteractiveShell._showtraceback\u001b[0;34m(self, etype, evalue, stb)\u001b[0m\n\u001b[1;32m    <a href='file:///home/tomas/.local/lib/python3.8/site-packages/ipykernel/zmqshell.py?line=531'>532</a>\u001b[0m sys\u001b[39m.\u001b[39mstdout\u001b[39m.\u001b[39mflush()\n\u001b[1;32m    <a href='file:///home/tomas/.local/lib/python3.8/site-packages/ipykernel/zmqshell.py?line=532'>533</a>\u001b[0m sys\u001b[39m.\u001b[39mstderr\u001b[39m.\u001b[39mflush()\n\u001b[1;32m    <a href='file:///home/tomas/.local/lib/python3.8/site-packages/ipykernel/zmqshell.py?line=534'>535</a>\u001b[0m exc_content \u001b[39m=\u001b[39m {\n\u001b[1;32m    <a href='file:///home/tomas/.local/lib/python3.8/site-packages/ipykernel/zmqshell.py?line=535'>536</a>\u001b[0m     \u001b[39m\"\u001b[39m\u001b[39mtraceback\u001b[39m\u001b[39m\"\u001b[39m: stb,\n\u001b[1;32m    <a href='file:///home/tomas/.local/lib/python3.8/site-packages/ipykernel/zmqshell.py?line=536'>537</a>\u001b[0m     \u001b[39m\"\u001b[39m\u001b[39mename\u001b[39m\u001b[39m\"\u001b[39m: \u001b[39mstr\u001b[39m(etype\u001b[39m.\u001b[39m\u001b[39m__name__\u001b[39m),\n\u001b[0;32m--> <a href='file:///home/tomas/.local/lib/python3.8/site-packages/ipykernel/zmqshell.py?line=537'>538</a>\u001b[0m     \u001b[39m\"\u001b[39m\u001b[39mevalue\u001b[39m\u001b[39m\"\u001b[39m: \u001b[39mstr\u001b[39;49m(evalue),\n\u001b[1;32m    <a href='file:///home/tomas/.local/lib/python3.8/site-packages/ipykernel/zmqshell.py?line=538'>539</a>\u001b[0m }\n\u001b[1;32m    <a href='file:///home/tomas/.local/lib/python3.8/site-packages/ipykernel/zmqshell.py?line=540'>541</a>\u001b[0m dh \u001b[39m=\u001b[39m \u001b[39mself\u001b[39m\u001b[39m.\u001b[39mdisplayhook\n\u001b[1;32m    <a href='file:///home/tomas/.local/lib/python3.8/site-packages/ipykernel/zmqshell.py?line=541'>542</a>\u001b[0m \u001b[39m# Send exception info over pub socket for other clients than the caller\u001b[39;00m\n\u001b[1;32m    <a href='file:///home/tomas/.local/lib/python3.8/site-packages/ipykernel/zmqshell.py?line=542'>543</a>\u001b[0m \u001b[39m# to pick up\u001b[39;00m\n",
      "File \u001b[0;32m~/.local/lib/python3.8/site-packages/py4j/protocol.py:471\u001b[0m, in \u001b[0;36mPy4JJavaError.__str__\u001b[0;34m(self)\u001b[0m\n\u001b[1;32m    <a href='file:///home/tomas/.local/lib/python3.8/site-packages/py4j/protocol.py?line=468'>469</a>\u001b[0m \u001b[39mdef\u001b[39;00m \u001b[39m__str__\u001b[39m(\u001b[39mself\u001b[39m):\n\u001b[1;32m    <a href='file:///home/tomas/.local/lib/python3.8/site-packages/py4j/protocol.py?line=469'>470</a>\u001b[0m     gateway_client \u001b[39m=\u001b[39m \u001b[39mself\u001b[39m\u001b[39m.\u001b[39mjava_exception\u001b[39m.\u001b[39m_gateway_client\n\u001b[0;32m--> <a href='file:///home/tomas/.local/lib/python3.8/site-packages/py4j/protocol.py?line=470'>471</a>\u001b[0m     answer \u001b[39m=\u001b[39m gateway_client\u001b[39m.\u001b[39;49msend_command(\u001b[39mself\u001b[39;49m\u001b[39m.\u001b[39;49mexception_cmd)\n\u001b[1;32m    <a href='file:///home/tomas/.local/lib/python3.8/site-packages/py4j/protocol.py?line=471'>472</a>\u001b[0m     return_value \u001b[39m=\u001b[39m get_return_value(answer, gateway_client, \u001b[39mNone\u001b[39;00m, \u001b[39mNone\u001b[39;00m)\n\u001b[1;32m    <a href='file:///home/tomas/.local/lib/python3.8/site-packages/py4j/protocol.py?line=472'>473</a>\u001b[0m     \u001b[39m# Note: technically this should return a bytestring 'str' rather than\u001b[39;00m\n\u001b[1;32m    <a href='file:///home/tomas/.local/lib/python3.8/site-packages/py4j/protocol.py?line=473'>474</a>\u001b[0m     \u001b[39m# unicodes in Python 2; however, it can return unicodes for now.\u001b[39;00m\n\u001b[1;32m    <a href='file:///home/tomas/.local/lib/python3.8/site-packages/py4j/protocol.py?line=474'>475</a>\u001b[0m     \u001b[39m# See https://github.com/bartdag/py4j/issues/306 for more details.\u001b[39;00m\n",
      "File \u001b[0;32m~/.local/lib/python3.8/site-packages/py4j/java_gateway.py:1036\u001b[0m, in \u001b[0;36mGatewayClient.send_command\u001b[0;34m(self, command, retry, binary)\u001b[0m\n\u001b[1;32m   <a href='file:///home/tomas/.local/lib/python3.8/site-packages/py4j/java_gateway.py?line=1014'>1015</a>\u001b[0m \u001b[39mdef\u001b[39;00m \u001b[39msend_command\u001b[39m(\u001b[39mself\u001b[39m, command, retry\u001b[39m=\u001b[39m\u001b[39mTrue\u001b[39;00m, binary\u001b[39m=\u001b[39m\u001b[39mFalse\u001b[39;00m):\n\u001b[1;32m   <a href='file:///home/tomas/.local/lib/python3.8/site-packages/py4j/java_gateway.py?line=1015'>1016</a>\u001b[0m     \u001b[39m\"\"\"Sends a command to the JVM. This method is not intended to be\u001b[39;00m\n\u001b[1;32m   <a href='file:///home/tomas/.local/lib/python3.8/site-packages/py4j/java_gateway.py?line=1016'>1017</a>\u001b[0m \u001b[39m       called directly by Py4J users. It is usually called by\u001b[39;00m\n\u001b[1;32m   <a href='file:///home/tomas/.local/lib/python3.8/site-packages/py4j/java_gateway.py?line=1017'>1018</a>\u001b[0m \u001b[39m       :class:`JavaMember` instances.\u001b[39;00m\n\u001b[0;32m   (...)\u001b[0m\n\u001b[1;32m   <a href='file:///home/tomas/.local/lib/python3.8/site-packages/py4j/java_gateway.py?line=1033'>1034</a>\u001b[0m \u001b[39m     if `binary` is `True`.\u001b[39;00m\n\u001b[1;32m   <a href='file:///home/tomas/.local/lib/python3.8/site-packages/py4j/java_gateway.py?line=1034'>1035</a>\u001b[0m \u001b[39m    \"\"\"\u001b[39;00m\n\u001b[0;32m-> <a href='file:///home/tomas/.local/lib/python3.8/site-packages/py4j/java_gateway.py?line=1035'>1036</a>\u001b[0m     connection \u001b[39m=\u001b[39m \u001b[39mself\u001b[39;49m\u001b[39m.\u001b[39;49m_get_connection()\n\u001b[1;32m   <a href='file:///home/tomas/.local/lib/python3.8/site-packages/py4j/java_gateway.py?line=1036'>1037</a>\u001b[0m     \u001b[39mtry\u001b[39;00m:\n\u001b[1;32m   <a href='file:///home/tomas/.local/lib/python3.8/site-packages/py4j/java_gateway.py?line=1037'>1038</a>\u001b[0m         response \u001b[39m=\u001b[39m connection\u001b[39m.\u001b[39msend_command(command)\n",
      "File \u001b[0;32m~/.local/lib/python3.8/site-packages/py4j/clientserver.py:281\u001b[0m, in \u001b[0;36mJavaClient._get_connection\u001b[0;34m(self)\u001b[0m\n\u001b[1;32m    <a href='file:///home/tomas/.local/lib/python3.8/site-packages/py4j/clientserver.py?line=277'>278</a>\u001b[0m     \u001b[39mpass\u001b[39;00m\n\u001b[1;32m    <a href='file:///home/tomas/.local/lib/python3.8/site-packages/py4j/clientserver.py?line=279'>280</a>\u001b[0m \u001b[39mif\u001b[39;00m connection \u001b[39mis\u001b[39;00m \u001b[39mNone\u001b[39;00m \u001b[39mor\u001b[39;00m connection\u001b[39m.\u001b[39msocket \u001b[39mis\u001b[39;00m \u001b[39mNone\u001b[39;00m:\n\u001b[0;32m--> <a href='file:///home/tomas/.local/lib/python3.8/site-packages/py4j/clientserver.py?line=280'>281</a>\u001b[0m     connection \u001b[39m=\u001b[39m \u001b[39mself\u001b[39;49m\u001b[39m.\u001b[39;49m_create_new_connection()\n\u001b[1;32m    <a href='file:///home/tomas/.local/lib/python3.8/site-packages/py4j/clientserver.py?line=281'>282</a>\u001b[0m \u001b[39mreturn\u001b[39;00m connection\n",
      "File \u001b[0;32m~/.local/lib/python3.8/site-packages/py4j/clientserver.py:288\u001b[0m, in \u001b[0;36mJavaClient._create_new_connection\u001b[0;34m(self)\u001b[0m\n\u001b[1;32m    <a href='file:///home/tomas/.local/lib/python3.8/site-packages/py4j/clientserver.py?line=283'>284</a>\u001b[0m \u001b[39mdef\u001b[39;00m \u001b[39m_create_new_connection\u001b[39m(\u001b[39mself\u001b[39m):\n\u001b[1;32m    <a href='file:///home/tomas/.local/lib/python3.8/site-packages/py4j/clientserver.py?line=284'>285</a>\u001b[0m     connection \u001b[39m=\u001b[39m ClientServerConnection(\n\u001b[1;32m    <a href='file:///home/tomas/.local/lib/python3.8/site-packages/py4j/clientserver.py?line=285'>286</a>\u001b[0m         \u001b[39mself\u001b[39m\u001b[39m.\u001b[39mjava_parameters, \u001b[39mself\u001b[39m\u001b[39m.\u001b[39mpython_parameters,\n\u001b[1;32m    <a href='file:///home/tomas/.local/lib/python3.8/site-packages/py4j/clientserver.py?line=286'>287</a>\u001b[0m         \u001b[39mself\u001b[39m\u001b[39m.\u001b[39mgateway_property, \u001b[39mself\u001b[39m)\n\u001b[0;32m--> <a href='file:///home/tomas/.local/lib/python3.8/site-packages/py4j/clientserver.py?line=287'>288</a>\u001b[0m     connection\u001b[39m.\u001b[39;49mconnect_to_java_server()\n\u001b[1;32m    <a href='file:///home/tomas/.local/lib/python3.8/site-packages/py4j/clientserver.py?line=288'>289</a>\u001b[0m     \u001b[39mself\u001b[39m\u001b[39m.\u001b[39mset_thread_connection(connection)\n\u001b[1;32m    <a href='file:///home/tomas/.local/lib/python3.8/site-packages/py4j/clientserver.py?line=289'>290</a>\u001b[0m     \u001b[39mreturn\u001b[39;00m connection\n",
      "File \u001b[0;32m~/.local/lib/python3.8/site-packages/py4j/clientserver.py:402\u001b[0m, in \u001b[0;36mClientServerConnection.connect_to_java_server\u001b[0;34m(self)\u001b[0m\n\u001b[1;32m    <a href='file:///home/tomas/.local/lib/python3.8/site-packages/py4j/clientserver.py?line=398'>399</a>\u001b[0m \u001b[39mif\u001b[39;00m \u001b[39mself\u001b[39m\u001b[39m.\u001b[39mssl_context:\n\u001b[1;32m    <a href='file:///home/tomas/.local/lib/python3.8/site-packages/py4j/clientserver.py?line=399'>400</a>\u001b[0m     \u001b[39mself\u001b[39m\u001b[39m.\u001b[39msocket \u001b[39m=\u001b[39m \u001b[39mself\u001b[39m\u001b[39m.\u001b[39mssl_context\u001b[39m.\u001b[39mwrap_socket(\n\u001b[1;32m    <a href='file:///home/tomas/.local/lib/python3.8/site-packages/py4j/clientserver.py?line=400'>401</a>\u001b[0m         \u001b[39mself\u001b[39m\u001b[39m.\u001b[39msocket, server_hostname\u001b[39m=\u001b[39m\u001b[39mself\u001b[39m\u001b[39m.\u001b[39mjava_address)\n\u001b[0;32m--> <a href='file:///home/tomas/.local/lib/python3.8/site-packages/py4j/clientserver.py?line=401'>402</a>\u001b[0m \u001b[39mself\u001b[39;49m\u001b[39m.\u001b[39;49msocket\u001b[39m.\u001b[39;49mconnect((\u001b[39mself\u001b[39;49m\u001b[39m.\u001b[39;49mjava_address, \u001b[39mself\u001b[39;49m\u001b[39m.\u001b[39;49mjava_port))\n\u001b[1;32m    <a href='file:///home/tomas/.local/lib/python3.8/site-packages/py4j/clientserver.py?line=402'>403</a>\u001b[0m \u001b[39mself\u001b[39m\u001b[39m.\u001b[39mstream \u001b[39m=\u001b[39m \u001b[39mself\u001b[39m\u001b[39m.\u001b[39msocket\u001b[39m.\u001b[39mmakefile(\u001b[39m\"\u001b[39m\u001b[39mrb\u001b[39m\u001b[39m\"\u001b[39m)\n\u001b[1;32m    <a href='file:///home/tomas/.local/lib/python3.8/site-packages/py4j/clientserver.py?line=403'>404</a>\u001b[0m \u001b[39mself\u001b[39m\u001b[39m.\u001b[39mis_connected \u001b[39m=\u001b[39m \u001b[39mTrue\u001b[39;00m\n",
      "\u001b[0;31mConnectionRefusedError\u001b[0m: [Errno 111] Connection refused"
     ]
    }
   ],
   "source": []
  },
  {
   "cell_type": "markdown",
   "metadata": {},
   "source": [
    "Here, it is needed to first check, if the path to delta table exists. If there exists a partition in this folder, rows will be updated. The reason can be the data are changed, e.g or new column is added (TODO: toto si este musim overit :D )"
   ]
  },
  {
   "cell_type": "code",
   "execution_count": null,
   "metadata": {},
   "outputs": [],
   "source": [
    "if os.path.isdir(delta_player_path):\n",
    "\n",
    "        deltaTable = DeltaTable.forPath(spark, delta_player_path)\n",
    "\n",
    "        (\n",
    "            deltaTable.alias('oldData')\n",
    "            .merge(\n",
    "                unified_players_df.alias('newData'),\n",
    "                \"oldData.match_date = newData.match_date\"\n",
    "            )\n",
    "            .whenNotMatchedInsertAll()\n",
    "            .execute()\n",
    "        )\n",
    "else:\n",
    "\n",
    "    (\n",
    "        unified_players_df\n",
    "        .write\n",
    "        .format('delta')\n",
    "        .mode('overwrite')\n",
    "        .partitionBy('match_date')\n",
    "        .save(delta_player_path)\n",
    "    )\n"
   ]
  },
  {
   "cell_type": "code",
   "execution_count": null,
   "metadata": {},
   "outputs": [],
   "source": [
    "if os.path.isdir(delta_ball_path):\n",
    "\n",
    "        deltaTable = DeltaTable.forPath(spark, delta_ball_path)\n",
    "\n",
    "        (\n",
    "            deltaTable.alias('oldData')\n",
    "            .merge(\n",
    "                unified_ball_df.alias('newData'),\n",
    "                \"oldData.match_date = newData.match_date\"\n",
    "            )\n",
    "            .whenNotMatchedInsertAll()\n",
    "            .execute()\n",
    "        )\n",
    "else:\n",
    "\n",
    "    (\n",
    "        unified_ball_df\n",
    "        .write\n",
    "        .format('delta')\n",
    "        .mode('overwrite')\n",
    "        .partitionBy('match_date')\n",
    "        .save(delta_player_path)\n",
    "    )\n"
   ]
  },
  {
   "cell_type": "code",
   "execution_count": 8,
   "metadata": {},
   "outputs": [
    {
     "name": "stderr",
     "output_type": "stream",
     "text": [
      "                                                                                \r"
     ]
    }
   ],
   "source": [
    "newData = spark.read.json('./data/g1060043_Data.jsonl')\n",
    "newData = (\n",
    "    newData\n",
    "    .withColumn('match_date', F.from_unixtime(F.col('wallClock')/1000, 'yyyy-MM-dd'))\n",
    "    .withColumn('ball_inside_box', udf_ball_inside_box(F.col('ball')))\n",
    ")\n",
    "\n",
    "newData = (\n",
    "    newData\n",
    "    .withColumn('home_players_exploded',F.explode('homePlayers'))\n",
    "    .withColumn('away_players_exploded',F.explode('awayPlayers'))\n",
    "    .select(\n",
    "        F.col('home_players_exploded.playerId').alias('homePlayer_playerId'),\n",
    "        F.col('home_players_exploded.speed').alias('homePlayer_speed'),\n",
    "        F.col('home_players_exploded.xyz').alias('homePlayer_3d_position'),\n",
    "        F.col('away_players_exploded.playerId').alias('awayPlayer_playerId'),\n",
    "        F.col('away_players_exploded.speed').alias('awayPlayer_speed'),\n",
    "        F.col('away_players_exploded.xyz').alias('awayPlayer_3d_position'),\n",
    "        *base_columns\n",
    "    )\n",
    "    .withColumn(\"home_player_3d_position_x\", F.col('homePlayer_3d_position').getItem(0))\n",
    "    .withColumn(\"home_player_3d_position_y\", F.col('homePlayer_3d_position').getItem(1))\n",
    "    .withColumn(\"home_player_3d_position_z\", F.col('homePlayer_3d_position').getItem(2))\n",
    ")"
   ]
  },
  {
   "cell_type": "code",
   "execution_count": 20,
   "metadata": {},
   "outputs": [
    {
     "name": "stdout",
     "output_type": "stream",
     "text": [
      "+-------------------+----------------+----------------------+-------------------+----------------+----------------------+------+--------+---------+-------------+-----+---------+----------+---------------+-------------------------+\n",
      "|homePlayer_playerId|homePlayer_speed|homePlayer_3d_position|awayPlayer_playerId|awayPlayer_speed|awayPlayer_3d_position|period|frameIdx|gameClock|wallClock    |live |lastTouch|match_date|ball_inside_box|home_player_3d_position_x|\n",
      "+-------------------+----------------+----------------------+-------------------+----------------+----------------------+------+--------+---------+-------------+-----+---------+----------+---------------+-------------------------+\n",
      "|199798             |0.0             |[-22.83, -11.82, 0.0] |55037              |0.0             |[0.95, -10.03, 0.0]   |1     |0       |0.0      |1594559841905|false|home     |2020-07-12|false          |-11.82                   |\n",
      "|199798             |0.0             |[-22.83, -11.82, 0.0] |40836              |0.0             |[43.43, -0.66, 0.0]   |1     |0       |0.0      |1594559841905|false|home     |2020-07-12|false          |-11.82                   |\n",
      "|199798             |0.0             |[-22.83, -11.82, 0.0] |55494              |0.0             |[8.16, 11.33, 0.0]    |1     |0       |0.0      |1594559841905|false|home     |2020-07-12|false          |-11.82                   |\n",
      "|199798             |0.0             |[-22.83, -11.82, 0.0] |40784              |0.0             |[20.19, -12.53, 0.0]  |1     |0       |0.0      |1594559841905|false|home     |2020-07-12|false          |-11.82                   |\n",
      "|199798             |0.0             |[-22.83, -11.82, 0.0] |80146              |0.0             |[0.15, -19.61, 0.0]   |1     |0       |0.0      |1594559841905|false|home     |2020-07-12|false          |-11.82                   |\n",
      "+-------------------+----------------+----------------------+-------------------+----------------+----------------------+------+--------+---------+-------------+-----+---------+----------+---------------+-------------------------+\n",
      "only showing top 5 rows\n",
      "\n"
     ]
    },
    {
     "name": "stderr",
     "output_type": "stream",
     "text": [
      "                                                                                \r"
     ]
    }
   ],
   "source": [
    "newData.show(5,truncate=False)"
   ]
  },
  {
   "cell_type": "code",
   "execution_count": null,
   "metadata": {},
   "outputs": [],
   "source": [
    "deltaTable = DeltaTable.forPath(spark, './test/match_one')\n",
    "\n",
    "(\n",
    "    deltaTable.alias('oldData')\n",
    "    .merge(\n",
    "        newData.alias('newData'),\n",
    "        \"oldData.match_date = newData.match_date\"\n",
    "    )\n",
    "    .whenNotMatchedInsertAll()\n",
    "    .execute()\n",
    ")"
   ]
  },
  {
   "cell_type": "markdown",
   "metadata": {},
   "source": [
    "TODO Grouping:\n",
    "\n",
    "Podme to urobit co najjednoduchsie:\n",
    "* urobit dva dataframey (vzdy to bdue v dany zapas away team a home team, zgrupovat dva dataframey a dat do jedneho, kde bude identifikator, ci ide o home/away team"
   ]
  },
  {
   "cell_type": "markdown",
   "metadata": {},
   "source": [
    "Tu by sa pocitali vlastne tie statistiky a performance jednotlivych hracov. uz ale z nacitaneho datasetu - resp. podla mna by mala existovat dalsia tabulka, aby sa to historizovalo.\n",
    "\n",
    "Ja by som si kludne niekde nechal tie data, a potom si pocital tieto agregacie a spolu s datumom..cize nejaky feature store ?"
   ]
  },
  {
   "cell_type": "code",
   "execution_count": 9,
   "metadata": {},
   "outputs": [],
   "source": [
    "from pyspark.sql.window import Window\n",
    "\n",
    "windowTop = Window.partitionBy(\"away_home_team\").orderBy(F.col(\"player_avg_speed\").desc())\n",
    "\n",
    "columns = unified_df.columns\n",
    "\n",
    "home_columns = [col for col in columns if col.startswith('home')] + base_columns\n",
    "home_df = (\n",
    "    unified_df\n",
    "    .select(home_columns)\n",
    ")\n",
    "\n",
    "home_df_grouped = (\n",
    "    home_df\n",
    "    .groupBy('homePlayer_playerId')\n",
    "    .agg(\n",
    "        F.avg('homePlayer_speed').alias('player_avg_speed'),\n",
    "        F.max('homePlayer_speed').alias('player_max_speed')\n",
    "    )\n",
    "    .withColumn('away_home_team',F.lit('home'))\n",
    "    .withColumnRenamed('homePlayer_playerId','playerId')\n",
    ")\n",
    "\n",
    "away_columns = [col for col in columns if col.startswith('away')] + base_columns\n",
    "\n",
    "away_df = (\n",
    "    unified_df\n",
    "    .select(away_columns)\n",
    ")\n",
    "\n",
    "away_df_grouped = (\n",
    "    away_df\n",
    "    .groupBy('awayPlayer_playerId')\n",
    "    .agg(\n",
    "        F.avg('awayPlayer_speed').alias('player_avg_speed'),\n",
    "        F.max('awayPlayer_speed').alias('player_max_speed')\n",
    "    )\n",
    "    .withColumn('away_home_team',F.lit('away'))\n",
    "    .withColumnRenamed('awayPlayer_playerId','playerId')\n",
    ")\n"
   ]
  },
  {
   "cell_type": "code",
   "execution_count": 23,
   "metadata": {},
   "outputs": [],
   "source": [
    "players_performance_df = (\n",
    "    home_df_grouped\n",
    "    .union(away_df_grouped)\n",
    ")"
   ]
  },
  {
   "cell_type": "code",
   "execution_count": 24,
   "metadata": {},
   "outputs": [
    {
     "name": "stderr",
     "output_type": "stream",
     "text": [
      "                                                                                \r"
     ]
    },
    {
     "name": "stdout",
     "output_type": "stream",
     "text": [
      "+--------+------------------+----------------+--------------+----+\n",
      "|playerId|player_avg_speed  |player_max_speed|away_home_team|rank|\n",
      "+--------+------------------+----------------+--------------+----+\n",
      "|230046  |2.0587558851714207|7.43            |away          |1   |\n",
      "|193488  |1.949944498725782 |9.09            |away          |2   |\n",
      "|85242   |1.9467171484365127|9.03            |away          |3   |\n",
      "|193111  |2.0908897298961997|8.31            |home          |1   |\n",
      "|87396   |2.0776437014192446|8.5             |home          |2   |\n",
      "|124165  |2.0078769219424277|7.66            |home          |3   |\n",
      "+--------+------------------+----------------+--------------+----+\n",
      "\n"
     ]
    }
   ],
   "source": [
    "(\n",
    "    players_performance_df\n",
    "    .orderBy('playerId')\n",
    "    .withColumn('rank',F.row_number().over(windowTop))\n",
    "    .filter(F.col('rank') <= 3)\n",
    ").show(10,truncate=False)"
   ]
  },
  {
   "cell_type": "code",
   "execution_count": 54,
   "metadata": {},
   "outputs": [
    {
     "name": "stderr",
     "output_type": "stream",
     "text": [
      "22/07/15 23:45:13 WARN BaseSessionStateBuilder$$anon$2: Max iterations (100) reached for batch Operator Optimization before Inferring Filters, please set 'spark.sql.optimizer.maxIterations' to a larger value.\n",
      "22/07/15 23:45:13 WARN BaseSessionStateBuilder$$anon$2: Max iterations (100) reached for batch Operator Optimization after Inferring Filters, please set 'spark.sql.optimizer.maxIterations' to a larger value.\n",
      "22/07/15 23:45:18 WARN MergeIntoCommand: Merge source has SQLMetric(id: 1338, name: Some(number of source rows), value: 153972) rows in initial scan but SQLMetric(id: 1339, name: Some(number of source rows (during repeated scan)), value: 0) rows in second scan\n"
     ]
    }
   ],
   "source": [
    "# insert new mapping\n",
    "\n",
    "\n",
    "deltaTable = DeltaTable.forPath(spark, './test/match_one')\n",
    "\n",
    "(\n",
    "    deltaTable.alias('oldData')\n",
    "    .merge(\n",
    "        newData.alias('newData'),\n",
    "        \"oldData.match_date = newData.match_date\"\n",
    "    )\n",
    "    .whenNotMatchedInsertAll()\n",
    "    .execute()\n",
    ")"
   ]
  },
  {
   "cell_type": "code",
   "execution_count": 12,
   "metadata": {},
   "outputs": [],
   "source": [
    "ball_perf = (\n",
    "    temp_df\n",
    "    .withColumn('ball_seconds',F.when(F.col('ball_inside_box') == True, 0.04).otherwise(0))\n",
    ")"
   ]
  },
  {
   "cell_type": "markdown",
   "metadata": {},
   "source": [
    "* Okay toto zatial neham tak, treba si teraz rozmysliet tu rychlost hraca po x-ovej osi."
   ]
  },
  {
   "cell_type": "code",
   "execution_count": 14,
   "metadata": {},
   "outputs": [
    {
     "name": "stdout",
     "output_type": "stream",
     "text": [
      "+------------------------+\n",
      "|(sum(ball_seconds) / 60)|\n",
      "+------------------------+\n",
      "|4.341999999999955       |\n",
      "+------------------------+\n",
      "\n"
     ]
    },
    {
     "name": "stderr",
     "output_type": "stream",
     "text": [
      "                                                                                \r"
     ]
    }
   ],
   "source": [
    "ball_perf.agg(F.sum('ball_seconds')/60).show(5,truncate=False)"
   ]
  },
  {
   "cell_type": "code",
   "execution_count": 29,
   "metadata": {},
   "outputs": [
    {
     "name": "stdout",
     "output_type": "stream",
     "text": [
      "+-------------------+----------------+----------------------+-------------------+----------------+----------------------+------+--------+---------+-------------+-----+---------+----------+---------------+-------------------------+-------------------------+-------------------------+\n",
      "|homePlayer_playerId|homePlayer_speed|homePlayer_3d_position|awayPlayer_playerId|awayPlayer_speed|awayPlayer_3d_position|period|frameIdx|gameClock|wallClock    |live |lastTouch|match_date|ball_inside_box|home_player_3d_position_x|home_player_3d_position_y|home_player_3d_position_z|\n",
      "+-------------------+----------------+----------------------+-------------------+----------------+----------------------+------+--------+---------+-------------+-----+---------+----------+---------------+-------------------------+-------------------------+-------------------------+\n",
      "|198826             |0.0             |[14.98, -4.01, 0.0]   |21205              |0.0             |[-52.29, 0.09, 0.0]   |1     |0       |0.0      |1570284007331|false|home     |2019-10-05|false          |14.98                    |-4.01                    |0.0                      |\n",
      "|198826             |0.0             |[14.98, -4.01, 0.0]   |203368             |0.0             |[-15.42, -14.3, 0.0]  |1     |0       |0.0      |1570284007331|false|home     |2019-10-05|false          |14.98                    |-4.01                    |0.0                      |\n",
      "|198826             |0.0             |[14.98, -4.01, 0.0]   |149484             |0.0             |[-21.72, 9.17, 0.0]   |1     |0       |0.0      |1570284007331|false|home     |2019-10-05|false          |14.98                    |-4.01                    |0.0                      |\n",
      "|198826             |0.0             |[14.98, -4.01, 0.0]   |85242              |0.0             |[-11.62, 8.74, 0.0]   |1     |0       |0.0      |1570284007331|false|home     |2019-10-05|false          |14.98                    |-4.01                    |0.0                      |\n",
      "|198826             |0.0             |[14.98, -4.01, 0.0]   |114283             |0.0             |[-9.22, 16.75, 0.0]   |1     |0       |0.0      |1570284007331|false|home     |2019-10-05|false          |14.98                    |-4.01                    |0.0                      |\n",
      "+-------------------+----------------+----------------------+-------------------+----------------+----------------------+------+--------+---------+-------------+-----+---------+----------+---------------+-------------------------+-------------------------+-------------------------+\n",
      "only showing top 5 rows\n",
      "\n"
     ]
    },
    {
     "name": "stderr",
     "output_type": "stream",
     "text": [
      "                                                                                \r"
     ]
    }
   ],
   "source": [
    "unified_df.show(5,False)"
   ]
  },
  {
   "cell_type": "code",
   "execution_count": 16,
   "metadata": {},
   "outputs": [
    {
     "name": "stderr",
     "output_type": "stream",
     "text": [
      "                                                                                \r"
     ]
    },
    {
     "name": "stdout",
     "output_type": "stream",
     "text": [
      "+-------------------+-----------------+\n",
      "|homePlayer_playerId|maximum_speed_x  |\n",
      "+-------------------+-----------------+\n",
      "|232980             |8.750000000007994|\n",
      "|195546             |8.250000000007505|\n",
      "|87396              |7.500000000006839|\n",
      "|71738              |8.500000000007732|\n",
      "|78607              |9.00000000000826 |\n",
      "+-------------------+-----------------+\n",
      "only showing top 5 rows\n",
      "\n"
     ]
    }
   ],
   "source": [
    "from pyspark.sql.window import Window\n",
    "windowDelta = Window.partitionBy(\"homePlayer_playerId\").orderBy(\"period\",\"gameClock\")\n",
    "windowTimeDelta = Window.partitionBy(\"homePlayer_playerId\").orderBy(\"period\")\n",
    "\n",
    "(\n",
    "    home_df\n",
    "    .dropDuplicates()\n",
    "    .withColumn('x_pos_lag',F.lag(\"home_player_3d_position_x\",1).over(windowDelta))\n",
    "    .withColumn('y_pos_lag',F.lag(\"home_player_3d_position_y\",1).over(windowDelta))\n",
    "    .withColumn(\"time_lag\",F.lag(\"gameClock\").over(windowTimeDelta))\n",
    "    .fillna(0.0)\n",
    "    .withColumn(\"delta_x\",F.abs(F.col(\"home_player_3d_position_x\") - F.col(\"x_pos_lag\")))\n",
    "    .withColumn(\"delta_y\",F.abs(F.col(\"home_player_3d_position_y\") - F.col(\"y_pos_lag\")))\n",
    "    .withColumn(\"delta_time\",F.col(\"gameClock\") - F.col(\"time_lag\"))\n",
    "    .withColumn(\"speed_x\", F.col(\"delta_x\")/F.col(\"delta_time\"))\n",
    "    .withColumn(\"speed_y\", F.col(\"delta_y\")/F.col(\"delta_time\"))\n",
    "    .groupBy(\"homePlayer_playerId\")\n",
    "    .agg(F.max(\"speed_x\").alias(\"maximum_speed_x\"))\n",
    ").show(5,truncate=False)"
   ]
  },
  {
   "cell_type": "markdown",
   "metadata": {},
   "source": [
    "### uloha 2"
   ]
  },
  {
   "cell_type": "code",
   "execution_count": null,
   "metadata": {},
   "outputs": [],
   "source": []
  }
 ],
 "metadata": {
  "interpreter": {
   "hash": "31f2aee4e71d21fbe5cf8b01ff0e069b9275f58929596ceb00d14d90e3e16cd6"
  },
  "kernelspec": {
   "display_name": "Python 3.8.10 64-bit",
   "language": "python",
   "name": "python3"
  },
  "language_info": {
   "codemirror_mode": {
    "name": "ipython",
    "version": 3
   },
   "file_extension": ".py",
   "mimetype": "text/x-python",
   "name": "python",
   "nbconvert_exporter": "python",
   "pygments_lexer": "ipython3",
   "version": "3.8.10"
  },
  "orig_nbformat": 4
 },
 "nbformat": 4,
 "nbformat_minor": 2
}
